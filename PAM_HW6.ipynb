{
  "nbformat": 4,
  "nbformat_minor": 0,
  "metadata": {
    "colab": {
      "provenance": [],
      "authorship_tag": "ABX9TyNkj51eN9cYR2r6Tp2RMv2k"
    },
    "kernelspec": {
      "name": "python3",
      "display_name": "Python 3"
    },
    "language_info": {
      "name": "python"
    },
    "widgets": {
      "application/vnd.jupyter.widget-state+json": {
        "97ad90ec9152432d84234ebca437019b": {
          "model_module": "@jupyter-widgets/controls",
          "model_name": "HBoxModel",
          "model_module_version": "1.5.0",
          "state": {
            "_dom_classes": [],
            "_model_module": "@jupyter-widgets/controls",
            "_model_module_version": "1.5.0",
            "_model_name": "HBoxModel",
            "_view_count": null,
            "_view_module": "@jupyter-widgets/controls",
            "_view_module_version": "1.5.0",
            "_view_name": "HBoxView",
            "box_style": "",
            "children": [
              "IPY_MODEL_01e1414415f345b5a1d047ac4b55f22f",
              "IPY_MODEL_bdb93f5ea9dd469098bca939330fb675",
              "IPY_MODEL_a199e1c9b3f44cddb32a5a996ef48918"
            ],
            "layout": "IPY_MODEL_05e5c861988546a297b7837fa4d269af"
          }
        },
        "01e1414415f345b5a1d047ac4b55f22f": {
          "model_module": "@jupyter-widgets/controls",
          "model_name": "HTMLModel",
          "model_module_version": "1.5.0",
          "state": {
            "_dom_classes": [],
            "_model_module": "@jupyter-widgets/controls",
            "_model_module_version": "1.5.0",
            "_model_name": "HTMLModel",
            "_view_count": null,
            "_view_module": "@jupyter-widgets/controls",
            "_view_module_version": "1.5.0",
            "_view_name": "HTMLView",
            "description": "",
            "description_tooltip": null,
            "layout": "IPY_MODEL_21a34c13100e4d1eb3e44e680270d411",
            "placeholder": "​",
            "style": "IPY_MODEL_d2e7f22920bf46499792a9abf00f8f2a",
            "value": "vocab.json: 100%"
          }
        },
        "bdb93f5ea9dd469098bca939330fb675": {
          "model_module": "@jupyter-widgets/controls",
          "model_name": "FloatProgressModel",
          "model_module_version": "1.5.0",
          "state": {
            "_dom_classes": [],
            "_model_module": "@jupyter-widgets/controls",
            "_model_module_version": "1.5.0",
            "_model_name": "FloatProgressModel",
            "_view_count": null,
            "_view_module": "@jupyter-widgets/controls",
            "_view_module_version": "1.5.0",
            "_view_name": "ProgressView",
            "bar_style": "success",
            "description": "",
            "description_tooltip": null,
            "layout": "IPY_MODEL_215cd9f5e2a84b6fafcc1557040d34cf",
            "max": 898823,
            "min": 0,
            "orientation": "horizontal",
            "style": "IPY_MODEL_93f39531b24744dda60b261968723827",
            "value": 898823
          }
        },
        "a199e1c9b3f44cddb32a5a996ef48918": {
          "model_module": "@jupyter-widgets/controls",
          "model_name": "HTMLModel",
          "model_module_version": "1.5.0",
          "state": {
            "_dom_classes": [],
            "_model_module": "@jupyter-widgets/controls",
            "_model_module_version": "1.5.0",
            "_model_name": "HTMLModel",
            "_view_count": null,
            "_view_module": "@jupyter-widgets/controls",
            "_view_module_version": "1.5.0",
            "_view_name": "HTMLView",
            "description": "",
            "description_tooltip": null,
            "layout": "IPY_MODEL_8b6950e7d24b44fd8110b558203b8499",
            "placeholder": "​",
            "style": "IPY_MODEL_c12c36d27304451c81e63e8d8e8c179f",
            "value": " 899k/899k [00:00&lt;00:00, 3.87MB/s]"
          }
        },
        "05e5c861988546a297b7837fa4d269af": {
          "model_module": "@jupyter-widgets/base",
          "model_name": "LayoutModel",
          "model_module_version": "1.2.0",
          "state": {
            "_model_module": "@jupyter-widgets/base",
            "_model_module_version": "1.2.0",
            "_model_name": "LayoutModel",
            "_view_count": null,
            "_view_module": "@jupyter-widgets/base",
            "_view_module_version": "1.2.0",
            "_view_name": "LayoutView",
            "align_content": null,
            "align_items": null,
            "align_self": null,
            "border": null,
            "bottom": null,
            "display": null,
            "flex": null,
            "flex_flow": null,
            "grid_area": null,
            "grid_auto_columns": null,
            "grid_auto_flow": null,
            "grid_auto_rows": null,
            "grid_column": null,
            "grid_gap": null,
            "grid_row": null,
            "grid_template_areas": null,
            "grid_template_columns": null,
            "grid_template_rows": null,
            "height": null,
            "justify_content": null,
            "justify_items": null,
            "left": null,
            "margin": null,
            "max_height": null,
            "max_width": null,
            "min_height": null,
            "min_width": null,
            "object_fit": null,
            "object_position": null,
            "order": null,
            "overflow": null,
            "overflow_x": null,
            "overflow_y": null,
            "padding": null,
            "right": null,
            "top": null,
            "visibility": null,
            "width": null
          }
        },
        "21a34c13100e4d1eb3e44e680270d411": {
          "model_module": "@jupyter-widgets/base",
          "model_name": "LayoutModel",
          "model_module_version": "1.2.0",
          "state": {
            "_model_module": "@jupyter-widgets/base",
            "_model_module_version": "1.2.0",
            "_model_name": "LayoutModel",
            "_view_count": null,
            "_view_module": "@jupyter-widgets/base",
            "_view_module_version": "1.2.0",
            "_view_name": "LayoutView",
            "align_content": null,
            "align_items": null,
            "align_self": null,
            "border": null,
            "bottom": null,
            "display": null,
            "flex": null,
            "flex_flow": null,
            "grid_area": null,
            "grid_auto_columns": null,
            "grid_auto_flow": null,
            "grid_auto_rows": null,
            "grid_column": null,
            "grid_gap": null,
            "grid_row": null,
            "grid_template_areas": null,
            "grid_template_columns": null,
            "grid_template_rows": null,
            "height": null,
            "justify_content": null,
            "justify_items": null,
            "left": null,
            "margin": null,
            "max_height": null,
            "max_width": null,
            "min_height": null,
            "min_width": null,
            "object_fit": null,
            "object_position": null,
            "order": null,
            "overflow": null,
            "overflow_x": null,
            "overflow_y": null,
            "padding": null,
            "right": null,
            "top": null,
            "visibility": null,
            "width": null
          }
        },
        "d2e7f22920bf46499792a9abf00f8f2a": {
          "model_module": "@jupyter-widgets/controls",
          "model_name": "DescriptionStyleModel",
          "model_module_version": "1.5.0",
          "state": {
            "_model_module": "@jupyter-widgets/controls",
            "_model_module_version": "1.5.0",
            "_model_name": "DescriptionStyleModel",
            "_view_count": null,
            "_view_module": "@jupyter-widgets/base",
            "_view_module_version": "1.2.0",
            "_view_name": "StyleView",
            "description_width": ""
          }
        },
        "215cd9f5e2a84b6fafcc1557040d34cf": {
          "model_module": "@jupyter-widgets/base",
          "model_name": "LayoutModel",
          "model_module_version": "1.2.0",
          "state": {
            "_model_module": "@jupyter-widgets/base",
            "_model_module_version": "1.2.0",
            "_model_name": "LayoutModel",
            "_view_count": null,
            "_view_module": "@jupyter-widgets/base",
            "_view_module_version": "1.2.0",
            "_view_name": "LayoutView",
            "align_content": null,
            "align_items": null,
            "align_self": null,
            "border": null,
            "bottom": null,
            "display": null,
            "flex": null,
            "flex_flow": null,
            "grid_area": null,
            "grid_auto_columns": null,
            "grid_auto_flow": null,
            "grid_auto_rows": null,
            "grid_column": null,
            "grid_gap": null,
            "grid_row": null,
            "grid_template_areas": null,
            "grid_template_columns": null,
            "grid_template_rows": null,
            "height": null,
            "justify_content": null,
            "justify_items": null,
            "left": null,
            "margin": null,
            "max_height": null,
            "max_width": null,
            "min_height": null,
            "min_width": null,
            "object_fit": null,
            "object_position": null,
            "order": null,
            "overflow": null,
            "overflow_x": null,
            "overflow_y": null,
            "padding": null,
            "right": null,
            "top": null,
            "visibility": null,
            "width": null
          }
        },
        "93f39531b24744dda60b261968723827": {
          "model_module": "@jupyter-widgets/controls",
          "model_name": "ProgressStyleModel",
          "model_module_version": "1.5.0",
          "state": {
            "_model_module": "@jupyter-widgets/controls",
            "_model_module_version": "1.5.0",
            "_model_name": "ProgressStyleModel",
            "_view_count": null,
            "_view_module": "@jupyter-widgets/base",
            "_view_module_version": "1.2.0",
            "_view_name": "StyleView",
            "bar_color": null,
            "description_width": ""
          }
        },
        "8b6950e7d24b44fd8110b558203b8499": {
          "model_module": "@jupyter-widgets/base",
          "model_name": "LayoutModel",
          "model_module_version": "1.2.0",
          "state": {
            "_model_module": "@jupyter-widgets/base",
            "_model_module_version": "1.2.0",
            "_model_name": "LayoutModel",
            "_view_count": null,
            "_view_module": "@jupyter-widgets/base",
            "_view_module_version": "1.2.0",
            "_view_name": "LayoutView",
            "align_content": null,
            "align_items": null,
            "align_self": null,
            "border": null,
            "bottom": null,
            "display": null,
            "flex": null,
            "flex_flow": null,
            "grid_area": null,
            "grid_auto_columns": null,
            "grid_auto_flow": null,
            "grid_auto_rows": null,
            "grid_column": null,
            "grid_gap": null,
            "grid_row": null,
            "grid_template_areas": null,
            "grid_template_columns": null,
            "grid_template_rows": null,
            "height": null,
            "justify_content": null,
            "justify_items": null,
            "left": null,
            "margin": null,
            "max_height": null,
            "max_width": null,
            "min_height": null,
            "min_width": null,
            "object_fit": null,
            "object_position": null,
            "order": null,
            "overflow": null,
            "overflow_x": null,
            "overflow_y": null,
            "padding": null,
            "right": null,
            "top": null,
            "visibility": null,
            "width": null
          }
        },
        "c12c36d27304451c81e63e8d8e8c179f": {
          "model_module": "@jupyter-widgets/controls",
          "model_name": "DescriptionStyleModel",
          "model_module_version": "1.5.0",
          "state": {
            "_model_module": "@jupyter-widgets/controls",
            "_model_module_version": "1.5.0",
            "_model_name": "DescriptionStyleModel",
            "_view_count": null,
            "_view_module": "@jupyter-widgets/base",
            "_view_module_version": "1.2.0",
            "_view_name": "StyleView",
            "description_width": ""
          }
        },
        "37cc92394ec04aef8633ee1c37c2429d": {
          "model_module": "@jupyter-widgets/controls",
          "model_name": "HBoxModel",
          "model_module_version": "1.5.0",
          "state": {
            "_dom_classes": [],
            "_model_module": "@jupyter-widgets/controls",
            "_model_module_version": "1.5.0",
            "_model_name": "HBoxModel",
            "_view_count": null,
            "_view_module": "@jupyter-widgets/controls",
            "_view_module_version": "1.5.0",
            "_view_name": "HBoxView",
            "box_style": "",
            "children": [
              "IPY_MODEL_a5d30fa41ba54e1b8e37c522da9ae9e7",
              "IPY_MODEL_871d49dcfeec4bd18d28a214b4309690",
              "IPY_MODEL_725f104bfbca45b48b7f105d1f2982fb"
            ],
            "layout": "IPY_MODEL_1cf7a67831af4a9fbf5c38d38db76736"
          }
        },
        "a5d30fa41ba54e1b8e37c522da9ae9e7": {
          "model_module": "@jupyter-widgets/controls",
          "model_name": "HTMLModel",
          "model_module_version": "1.5.0",
          "state": {
            "_dom_classes": [],
            "_model_module": "@jupyter-widgets/controls",
            "_model_module_version": "1.5.0",
            "_model_name": "HTMLModel",
            "_view_count": null,
            "_view_module": "@jupyter-widgets/controls",
            "_view_module_version": "1.5.0",
            "_view_name": "HTMLView",
            "description": "",
            "description_tooltip": null,
            "layout": "IPY_MODEL_20fe2776d3604790b0be530a87981f55",
            "placeholder": "​",
            "style": "IPY_MODEL_4a67fe3428ff425da52105b22ab3dfae",
            "value": "merges.txt: 100%"
          }
        },
        "871d49dcfeec4bd18d28a214b4309690": {
          "model_module": "@jupyter-widgets/controls",
          "model_name": "FloatProgressModel",
          "model_module_version": "1.5.0",
          "state": {
            "_dom_classes": [],
            "_model_module": "@jupyter-widgets/controls",
            "_model_module_version": "1.5.0",
            "_model_name": "FloatProgressModel",
            "_view_count": null,
            "_view_module": "@jupyter-widgets/controls",
            "_view_module_version": "1.5.0",
            "_view_name": "ProgressView",
            "bar_style": "success",
            "description": "",
            "description_tooltip": null,
            "layout": "IPY_MODEL_88f713dea30e473694c916dad8709b78",
            "max": 456318,
            "min": 0,
            "orientation": "horizontal",
            "style": "IPY_MODEL_0a9da6bb4b5640a0bf44a29970d094e5",
            "value": 456318
          }
        },
        "725f104bfbca45b48b7f105d1f2982fb": {
          "model_module": "@jupyter-widgets/controls",
          "model_name": "HTMLModel",
          "model_module_version": "1.5.0",
          "state": {
            "_dom_classes": [],
            "_model_module": "@jupyter-widgets/controls",
            "_model_module_version": "1.5.0",
            "_model_name": "HTMLModel",
            "_view_count": null,
            "_view_module": "@jupyter-widgets/controls",
            "_view_module_version": "1.5.0",
            "_view_name": "HTMLView",
            "description": "",
            "description_tooltip": null,
            "layout": "IPY_MODEL_a995f0ffc0dd4a85a61f600663310444",
            "placeholder": "​",
            "style": "IPY_MODEL_343cdd2a9312441d95267ab804c9633b",
            "value": " 456k/456k [00:00&lt;00:00, 7.98MB/s]"
          }
        },
        "1cf7a67831af4a9fbf5c38d38db76736": {
          "model_module": "@jupyter-widgets/base",
          "model_name": "LayoutModel",
          "model_module_version": "1.2.0",
          "state": {
            "_model_module": "@jupyter-widgets/base",
            "_model_module_version": "1.2.0",
            "_model_name": "LayoutModel",
            "_view_count": null,
            "_view_module": "@jupyter-widgets/base",
            "_view_module_version": "1.2.0",
            "_view_name": "LayoutView",
            "align_content": null,
            "align_items": null,
            "align_self": null,
            "border": null,
            "bottom": null,
            "display": null,
            "flex": null,
            "flex_flow": null,
            "grid_area": null,
            "grid_auto_columns": null,
            "grid_auto_flow": null,
            "grid_auto_rows": null,
            "grid_column": null,
            "grid_gap": null,
            "grid_row": null,
            "grid_template_areas": null,
            "grid_template_columns": null,
            "grid_template_rows": null,
            "height": null,
            "justify_content": null,
            "justify_items": null,
            "left": null,
            "margin": null,
            "max_height": null,
            "max_width": null,
            "min_height": null,
            "min_width": null,
            "object_fit": null,
            "object_position": null,
            "order": null,
            "overflow": null,
            "overflow_x": null,
            "overflow_y": null,
            "padding": null,
            "right": null,
            "top": null,
            "visibility": null,
            "width": null
          }
        },
        "20fe2776d3604790b0be530a87981f55": {
          "model_module": "@jupyter-widgets/base",
          "model_name": "LayoutModel",
          "model_module_version": "1.2.0",
          "state": {
            "_model_module": "@jupyter-widgets/base",
            "_model_module_version": "1.2.0",
            "_model_name": "LayoutModel",
            "_view_count": null,
            "_view_module": "@jupyter-widgets/base",
            "_view_module_version": "1.2.0",
            "_view_name": "LayoutView",
            "align_content": null,
            "align_items": null,
            "align_self": null,
            "border": null,
            "bottom": null,
            "display": null,
            "flex": null,
            "flex_flow": null,
            "grid_area": null,
            "grid_auto_columns": null,
            "grid_auto_flow": null,
            "grid_auto_rows": null,
            "grid_column": null,
            "grid_gap": null,
            "grid_row": null,
            "grid_template_areas": null,
            "grid_template_columns": null,
            "grid_template_rows": null,
            "height": null,
            "justify_content": null,
            "justify_items": null,
            "left": null,
            "margin": null,
            "max_height": null,
            "max_width": null,
            "min_height": null,
            "min_width": null,
            "object_fit": null,
            "object_position": null,
            "order": null,
            "overflow": null,
            "overflow_x": null,
            "overflow_y": null,
            "padding": null,
            "right": null,
            "top": null,
            "visibility": null,
            "width": null
          }
        },
        "4a67fe3428ff425da52105b22ab3dfae": {
          "model_module": "@jupyter-widgets/controls",
          "model_name": "DescriptionStyleModel",
          "model_module_version": "1.5.0",
          "state": {
            "_model_module": "@jupyter-widgets/controls",
            "_model_module_version": "1.5.0",
            "_model_name": "DescriptionStyleModel",
            "_view_count": null,
            "_view_module": "@jupyter-widgets/base",
            "_view_module_version": "1.2.0",
            "_view_name": "StyleView",
            "description_width": ""
          }
        },
        "88f713dea30e473694c916dad8709b78": {
          "model_module": "@jupyter-widgets/base",
          "model_name": "LayoutModel",
          "model_module_version": "1.2.0",
          "state": {
            "_model_module": "@jupyter-widgets/base",
            "_model_module_version": "1.2.0",
            "_model_name": "LayoutModel",
            "_view_count": null,
            "_view_module": "@jupyter-widgets/base",
            "_view_module_version": "1.2.0",
            "_view_name": "LayoutView",
            "align_content": null,
            "align_items": null,
            "align_self": null,
            "border": null,
            "bottom": null,
            "display": null,
            "flex": null,
            "flex_flow": null,
            "grid_area": null,
            "grid_auto_columns": null,
            "grid_auto_flow": null,
            "grid_auto_rows": null,
            "grid_column": null,
            "grid_gap": null,
            "grid_row": null,
            "grid_template_areas": null,
            "grid_template_columns": null,
            "grid_template_rows": null,
            "height": null,
            "justify_content": null,
            "justify_items": null,
            "left": null,
            "margin": null,
            "max_height": null,
            "max_width": null,
            "min_height": null,
            "min_width": null,
            "object_fit": null,
            "object_position": null,
            "order": null,
            "overflow": null,
            "overflow_x": null,
            "overflow_y": null,
            "padding": null,
            "right": null,
            "top": null,
            "visibility": null,
            "width": null
          }
        },
        "0a9da6bb4b5640a0bf44a29970d094e5": {
          "model_module": "@jupyter-widgets/controls",
          "model_name": "ProgressStyleModel",
          "model_module_version": "1.5.0",
          "state": {
            "_model_module": "@jupyter-widgets/controls",
            "_model_module_version": "1.5.0",
            "_model_name": "ProgressStyleModel",
            "_view_count": null,
            "_view_module": "@jupyter-widgets/base",
            "_view_module_version": "1.2.0",
            "_view_name": "StyleView",
            "bar_color": null,
            "description_width": ""
          }
        },
        "a995f0ffc0dd4a85a61f600663310444": {
          "model_module": "@jupyter-widgets/base",
          "model_name": "LayoutModel",
          "model_module_version": "1.2.0",
          "state": {
            "_model_module": "@jupyter-widgets/base",
            "_model_module_version": "1.2.0",
            "_model_name": "LayoutModel",
            "_view_count": null,
            "_view_module": "@jupyter-widgets/base",
            "_view_module_version": "1.2.0",
            "_view_name": "LayoutView",
            "align_content": null,
            "align_items": null,
            "align_self": null,
            "border": null,
            "bottom": null,
            "display": null,
            "flex": null,
            "flex_flow": null,
            "grid_area": null,
            "grid_auto_columns": null,
            "grid_auto_flow": null,
            "grid_auto_rows": null,
            "grid_column": null,
            "grid_gap": null,
            "grid_row": null,
            "grid_template_areas": null,
            "grid_template_columns": null,
            "grid_template_rows": null,
            "height": null,
            "justify_content": null,
            "justify_items": null,
            "left": null,
            "margin": null,
            "max_height": null,
            "max_width": null,
            "min_height": null,
            "min_width": null,
            "object_fit": null,
            "object_position": null,
            "order": null,
            "overflow": null,
            "overflow_x": null,
            "overflow_y": null,
            "padding": null,
            "right": null,
            "top": null,
            "visibility": null,
            "width": null
          }
        },
        "343cdd2a9312441d95267ab804c9633b": {
          "model_module": "@jupyter-widgets/controls",
          "model_name": "DescriptionStyleModel",
          "model_module_version": "1.5.0",
          "state": {
            "_model_module": "@jupyter-widgets/controls",
            "_model_module_version": "1.5.0",
            "_model_name": "DescriptionStyleModel",
            "_view_count": null,
            "_view_module": "@jupyter-widgets/base",
            "_view_module_version": "1.2.0",
            "_view_name": "StyleView",
            "description_width": ""
          }
        },
        "07e76891d9154d0d9e7659cb864bd358": {
          "model_module": "@jupyter-widgets/controls",
          "model_name": "HBoxModel",
          "model_module_version": "1.5.0",
          "state": {
            "_dom_classes": [],
            "_model_module": "@jupyter-widgets/controls",
            "_model_module_version": "1.5.0",
            "_model_name": "HBoxModel",
            "_view_count": null,
            "_view_module": "@jupyter-widgets/controls",
            "_view_module_version": "1.5.0",
            "_view_name": "HBoxView",
            "box_style": "",
            "children": [
              "IPY_MODEL_2f1f1fb9ee044a609b8a7bbccbf94e9b",
              "IPY_MODEL_30bf5a20f3554f2681b0f64b2563b9d4",
              "IPY_MODEL_366237106f074cb28524b320051e7d0c"
            ],
            "layout": "IPY_MODEL_de6818c8632b4eb5b2ee0a8c6e609af6"
          }
        },
        "2f1f1fb9ee044a609b8a7bbccbf94e9b": {
          "model_module": "@jupyter-widgets/controls",
          "model_name": "HTMLModel",
          "model_module_version": "1.5.0",
          "state": {
            "_dom_classes": [],
            "_model_module": "@jupyter-widgets/controls",
            "_model_module_version": "1.5.0",
            "_model_name": "HTMLModel",
            "_view_count": null,
            "_view_module": "@jupyter-widgets/controls",
            "_view_module_version": "1.5.0",
            "_view_name": "HTMLView",
            "description": "",
            "description_tooltip": null,
            "layout": "IPY_MODEL_613ad541e48b4e31b11ce49d6449eb01",
            "placeholder": "​",
            "style": "IPY_MODEL_0f752fd8e5824d50992f355f01de6a8f",
            "value": "tokenizer.json: 100%"
          }
        },
        "30bf5a20f3554f2681b0f64b2563b9d4": {
          "model_module": "@jupyter-widgets/controls",
          "model_name": "FloatProgressModel",
          "model_module_version": "1.5.0",
          "state": {
            "_dom_classes": [],
            "_model_module": "@jupyter-widgets/controls",
            "_model_module_version": "1.5.0",
            "_model_name": "FloatProgressModel",
            "_view_count": null,
            "_view_module": "@jupyter-widgets/controls",
            "_view_module_version": "1.5.0",
            "_view_name": "ProgressView",
            "bar_style": "success",
            "description": "",
            "description_tooltip": null,
            "layout": "IPY_MODEL_cffc3fdf6bde40199b634b2e3d53f203",
            "max": 1355863,
            "min": 0,
            "orientation": "horizontal",
            "style": "IPY_MODEL_5b1be899a1ac44209fafb0ed3f16b4e8",
            "value": 1355863
          }
        },
        "366237106f074cb28524b320051e7d0c": {
          "model_module": "@jupyter-widgets/controls",
          "model_name": "HTMLModel",
          "model_module_version": "1.5.0",
          "state": {
            "_dom_classes": [],
            "_model_module": "@jupyter-widgets/controls",
            "_model_module_version": "1.5.0",
            "_model_name": "HTMLModel",
            "_view_count": null,
            "_view_module": "@jupyter-widgets/controls",
            "_view_module_version": "1.5.0",
            "_view_name": "HTMLView",
            "description": "",
            "description_tooltip": null,
            "layout": "IPY_MODEL_76738240cc7a40199a37add7bb6839d7",
            "placeholder": "​",
            "style": "IPY_MODEL_2333f01c63cd4c1ca0a7e22d7fe400b9",
            "value": " 1.36M/1.36M [00:00&lt;00:00, 4.12MB/s]"
          }
        },
        "de6818c8632b4eb5b2ee0a8c6e609af6": {
          "model_module": "@jupyter-widgets/base",
          "model_name": "LayoutModel",
          "model_module_version": "1.2.0",
          "state": {
            "_model_module": "@jupyter-widgets/base",
            "_model_module_version": "1.2.0",
            "_model_name": "LayoutModel",
            "_view_count": null,
            "_view_module": "@jupyter-widgets/base",
            "_view_module_version": "1.2.0",
            "_view_name": "LayoutView",
            "align_content": null,
            "align_items": null,
            "align_self": null,
            "border": null,
            "bottom": null,
            "display": null,
            "flex": null,
            "flex_flow": null,
            "grid_area": null,
            "grid_auto_columns": null,
            "grid_auto_flow": null,
            "grid_auto_rows": null,
            "grid_column": null,
            "grid_gap": null,
            "grid_row": null,
            "grid_template_areas": null,
            "grid_template_columns": null,
            "grid_template_rows": null,
            "height": null,
            "justify_content": null,
            "justify_items": null,
            "left": null,
            "margin": null,
            "max_height": null,
            "max_width": null,
            "min_height": null,
            "min_width": null,
            "object_fit": null,
            "object_position": null,
            "order": null,
            "overflow": null,
            "overflow_x": null,
            "overflow_y": null,
            "padding": null,
            "right": null,
            "top": null,
            "visibility": null,
            "width": null
          }
        },
        "613ad541e48b4e31b11ce49d6449eb01": {
          "model_module": "@jupyter-widgets/base",
          "model_name": "LayoutModel",
          "model_module_version": "1.2.0",
          "state": {
            "_model_module": "@jupyter-widgets/base",
            "_model_module_version": "1.2.0",
            "_model_name": "LayoutModel",
            "_view_count": null,
            "_view_module": "@jupyter-widgets/base",
            "_view_module_version": "1.2.0",
            "_view_name": "LayoutView",
            "align_content": null,
            "align_items": null,
            "align_self": null,
            "border": null,
            "bottom": null,
            "display": null,
            "flex": null,
            "flex_flow": null,
            "grid_area": null,
            "grid_auto_columns": null,
            "grid_auto_flow": null,
            "grid_auto_rows": null,
            "grid_column": null,
            "grid_gap": null,
            "grid_row": null,
            "grid_template_areas": null,
            "grid_template_columns": null,
            "grid_template_rows": null,
            "height": null,
            "justify_content": null,
            "justify_items": null,
            "left": null,
            "margin": null,
            "max_height": null,
            "max_width": null,
            "min_height": null,
            "min_width": null,
            "object_fit": null,
            "object_position": null,
            "order": null,
            "overflow": null,
            "overflow_x": null,
            "overflow_y": null,
            "padding": null,
            "right": null,
            "top": null,
            "visibility": null,
            "width": null
          }
        },
        "0f752fd8e5824d50992f355f01de6a8f": {
          "model_module": "@jupyter-widgets/controls",
          "model_name": "DescriptionStyleModel",
          "model_module_version": "1.5.0",
          "state": {
            "_model_module": "@jupyter-widgets/controls",
            "_model_module_version": "1.5.0",
            "_model_name": "DescriptionStyleModel",
            "_view_count": null,
            "_view_module": "@jupyter-widgets/base",
            "_view_module_version": "1.2.0",
            "_view_name": "StyleView",
            "description_width": ""
          }
        },
        "cffc3fdf6bde40199b634b2e3d53f203": {
          "model_module": "@jupyter-widgets/base",
          "model_name": "LayoutModel",
          "model_module_version": "1.2.0",
          "state": {
            "_model_module": "@jupyter-widgets/base",
            "_model_module_version": "1.2.0",
            "_model_name": "LayoutModel",
            "_view_count": null,
            "_view_module": "@jupyter-widgets/base",
            "_view_module_version": "1.2.0",
            "_view_name": "LayoutView",
            "align_content": null,
            "align_items": null,
            "align_self": null,
            "border": null,
            "bottom": null,
            "display": null,
            "flex": null,
            "flex_flow": null,
            "grid_area": null,
            "grid_auto_columns": null,
            "grid_auto_flow": null,
            "grid_auto_rows": null,
            "grid_column": null,
            "grid_gap": null,
            "grid_row": null,
            "grid_template_areas": null,
            "grid_template_columns": null,
            "grid_template_rows": null,
            "height": null,
            "justify_content": null,
            "justify_items": null,
            "left": null,
            "margin": null,
            "max_height": null,
            "max_width": null,
            "min_height": null,
            "min_width": null,
            "object_fit": null,
            "object_position": null,
            "order": null,
            "overflow": null,
            "overflow_x": null,
            "overflow_y": null,
            "padding": null,
            "right": null,
            "top": null,
            "visibility": null,
            "width": null
          }
        },
        "5b1be899a1ac44209fafb0ed3f16b4e8": {
          "model_module": "@jupyter-widgets/controls",
          "model_name": "ProgressStyleModel",
          "model_module_version": "1.5.0",
          "state": {
            "_model_module": "@jupyter-widgets/controls",
            "_model_module_version": "1.5.0",
            "_model_name": "ProgressStyleModel",
            "_view_count": null,
            "_view_module": "@jupyter-widgets/base",
            "_view_module_version": "1.2.0",
            "_view_name": "StyleView",
            "bar_color": null,
            "description_width": ""
          }
        },
        "76738240cc7a40199a37add7bb6839d7": {
          "model_module": "@jupyter-widgets/base",
          "model_name": "LayoutModel",
          "model_module_version": "1.2.0",
          "state": {
            "_model_module": "@jupyter-widgets/base",
            "_model_module_version": "1.2.0",
            "_model_name": "LayoutModel",
            "_view_count": null,
            "_view_module": "@jupyter-widgets/base",
            "_view_module_version": "1.2.0",
            "_view_name": "LayoutView",
            "align_content": null,
            "align_items": null,
            "align_self": null,
            "border": null,
            "bottom": null,
            "display": null,
            "flex": null,
            "flex_flow": null,
            "grid_area": null,
            "grid_auto_columns": null,
            "grid_auto_flow": null,
            "grid_auto_rows": null,
            "grid_column": null,
            "grid_gap": null,
            "grid_row": null,
            "grid_template_areas": null,
            "grid_template_columns": null,
            "grid_template_rows": null,
            "height": null,
            "justify_content": null,
            "justify_items": null,
            "left": null,
            "margin": null,
            "max_height": null,
            "max_width": null,
            "min_height": null,
            "min_width": null,
            "object_fit": null,
            "object_position": null,
            "order": null,
            "overflow": null,
            "overflow_x": null,
            "overflow_y": null,
            "padding": null,
            "right": null,
            "top": null,
            "visibility": null,
            "width": null
          }
        },
        "2333f01c63cd4c1ca0a7e22d7fe400b9": {
          "model_module": "@jupyter-widgets/controls",
          "model_name": "DescriptionStyleModel",
          "model_module_version": "1.5.0",
          "state": {
            "_model_module": "@jupyter-widgets/controls",
            "_model_module_version": "1.5.0",
            "_model_name": "DescriptionStyleModel",
            "_view_count": null,
            "_view_module": "@jupyter-widgets/base",
            "_view_module_version": "1.2.0",
            "_view_name": "StyleView",
            "description_width": ""
          }
        },
        "7958b0ec523b409997c08f3e14926176": {
          "model_module": "@jupyter-widgets/controls",
          "model_name": "HBoxModel",
          "model_module_version": "1.5.0",
          "state": {
            "_dom_classes": [],
            "_model_module": "@jupyter-widgets/controls",
            "_model_module_version": "1.5.0",
            "_model_name": "HBoxModel",
            "_view_count": null,
            "_view_module": "@jupyter-widgets/controls",
            "_view_module_version": "1.5.0",
            "_view_name": "HBoxView",
            "box_style": "",
            "children": [
              "IPY_MODEL_7d5359f2ff564f58a7dcdff17251ca7d",
              "IPY_MODEL_ca5d470f72e04b16aa2ad3eff6021a6e",
              "IPY_MODEL_eb72730b848147f5a067f06bb4126290"
            ],
            "layout": "IPY_MODEL_eaaf2734631f449d9225a82bc452780f"
          }
        },
        "7d5359f2ff564f58a7dcdff17251ca7d": {
          "model_module": "@jupyter-widgets/controls",
          "model_name": "HTMLModel",
          "model_module_version": "1.5.0",
          "state": {
            "_dom_classes": [],
            "_model_module": "@jupyter-widgets/controls",
            "_model_module_version": "1.5.0",
            "_model_name": "HTMLModel",
            "_view_count": null,
            "_view_module": "@jupyter-widgets/controls",
            "_view_module_version": "1.5.0",
            "_view_name": "HTMLView",
            "description": "",
            "description_tooltip": null,
            "layout": "IPY_MODEL_244376c488604f288f1b8fa0c568d36b",
            "placeholder": "​",
            "style": "IPY_MODEL_4cc7f51090cf4db2a9dd57083365593c",
            "value": "config.json: 100%"
          }
        },
        "ca5d470f72e04b16aa2ad3eff6021a6e": {
          "model_module": "@jupyter-widgets/controls",
          "model_name": "FloatProgressModel",
          "model_module_version": "1.5.0",
          "state": {
            "_dom_classes": [],
            "_model_module": "@jupyter-widgets/controls",
            "_model_module_version": "1.5.0",
            "_model_name": "FloatProgressModel",
            "_view_count": null,
            "_view_module": "@jupyter-widgets/controls",
            "_view_module_version": "1.5.0",
            "_view_name": "ProgressView",
            "bar_style": "success",
            "description": "",
            "description_tooltip": null,
            "layout": "IPY_MODEL_2ce04ca6d418477a942b46429ee9b9f7",
            "max": 1716,
            "min": 0,
            "orientation": "horizontal",
            "style": "IPY_MODEL_d8816c2fa7294d86abada670fdc4daad",
            "value": 1716
          }
        },
        "eb72730b848147f5a067f06bb4126290": {
          "model_module": "@jupyter-widgets/controls",
          "model_name": "HTMLModel",
          "model_module_version": "1.5.0",
          "state": {
            "_dom_classes": [],
            "_model_module": "@jupyter-widgets/controls",
            "_model_module_version": "1.5.0",
            "_model_name": "HTMLModel",
            "_view_count": null,
            "_view_module": "@jupyter-widgets/controls",
            "_view_module_version": "1.5.0",
            "_view_name": "HTMLView",
            "description": "",
            "description_tooltip": null,
            "layout": "IPY_MODEL_34856fce86254e05b0e023a81ae64c60",
            "placeholder": "​",
            "style": "IPY_MODEL_6c781ae9b311479f87b13769c0ca8a67",
            "value": " 1.72k/1.72k [00:00&lt;00:00, 80.6kB/s]"
          }
        },
        "eaaf2734631f449d9225a82bc452780f": {
          "model_module": "@jupyter-widgets/base",
          "model_name": "LayoutModel",
          "model_module_version": "1.2.0",
          "state": {
            "_model_module": "@jupyter-widgets/base",
            "_model_module_version": "1.2.0",
            "_model_name": "LayoutModel",
            "_view_count": null,
            "_view_module": "@jupyter-widgets/base",
            "_view_module_version": "1.2.0",
            "_view_name": "LayoutView",
            "align_content": null,
            "align_items": null,
            "align_self": null,
            "border": null,
            "bottom": null,
            "display": null,
            "flex": null,
            "flex_flow": null,
            "grid_area": null,
            "grid_auto_columns": null,
            "grid_auto_flow": null,
            "grid_auto_rows": null,
            "grid_column": null,
            "grid_gap": null,
            "grid_row": null,
            "grid_template_areas": null,
            "grid_template_columns": null,
            "grid_template_rows": null,
            "height": null,
            "justify_content": null,
            "justify_items": null,
            "left": null,
            "margin": null,
            "max_height": null,
            "max_width": null,
            "min_height": null,
            "min_width": null,
            "object_fit": null,
            "object_position": null,
            "order": null,
            "overflow": null,
            "overflow_x": null,
            "overflow_y": null,
            "padding": null,
            "right": null,
            "top": null,
            "visibility": null,
            "width": null
          }
        },
        "244376c488604f288f1b8fa0c568d36b": {
          "model_module": "@jupyter-widgets/base",
          "model_name": "LayoutModel",
          "model_module_version": "1.2.0",
          "state": {
            "_model_module": "@jupyter-widgets/base",
            "_model_module_version": "1.2.0",
            "_model_name": "LayoutModel",
            "_view_count": null,
            "_view_module": "@jupyter-widgets/base",
            "_view_module_version": "1.2.0",
            "_view_name": "LayoutView",
            "align_content": null,
            "align_items": null,
            "align_self": null,
            "border": null,
            "bottom": null,
            "display": null,
            "flex": null,
            "flex_flow": null,
            "grid_area": null,
            "grid_auto_columns": null,
            "grid_auto_flow": null,
            "grid_auto_rows": null,
            "grid_column": null,
            "grid_gap": null,
            "grid_row": null,
            "grid_template_areas": null,
            "grid_template_columns": null,
            "grid_template_rows": null,
            "height": null,
            "justify_content": null,
            "justify_items": null,
            "left": null,
            "margin": null,
            "max_height": null,
            "max_width": null,
            "min_height": null,
            "min_width": null,
            "object_fit": null,
            "object_position": null,
            "order": null,
            "overflow": null,
            "overflow_x": null,
            "overflow_y": null,
            "padding": null,
            "right": null,
            "top": null,
            "visibility": null,
            "width": null
          }
        },
        "4cc7f51090cf4db2a9dd57083365593c": {
          "model_module": "@jupyter-widgets/controls",
          "model_name": "DescriptionStyleModel",
          "model_module_version": "1.5.0",
          "state": {
            "_model_module": "@jupyter-widgets/controls",
            "_model_module_version": "1.5.0",
            "_model_name": "DescriptionStyleModel",
            "_view_count": null,
            "_view_module": "@jupyter-widgets/base",
            "_view_module_version": "1.2.0",
            "_view_name": "StyleView",
            "description_width": ""
          }
        },
        "2ce04ca6d418477a942b46429ee9b9f7": {
          "model_module": "@jupyter-widgets/base",
          "model_name": "LayoutModel",
          "model_module_version": "1.2.0",
          "state": {
            "_model_module": "@jupyter-widgets/base",
            "_model_module_version": "1.2.0",
            "_model_name": "LayoutModel",
            "_view_count": null,
            "_view_module": "@jupyter-widgets/base",
            "_view_module_version": "1.2.0",
            "_view_name": "LayoutView",
            "align_content": null,
            "align_items": null,
            "align_self": null,
            "border": null,
            "bottom": null,
            "display": null,
            "flex": null,
            "flex_flow": null,
            "grid_area": null,
            "grid_auto_columns": null,
            "grid_auto_flow": null,
            "grid_auto_rows": null,
            "grid_column": null,
            "grid_gap": null,
            "grid_row": null,
            "grid_template_areas": null,
            "grid_template_columns": null,
            "grid_template_rows": null,
            "height": null,
            "justify_content": null,
            "justify_items": null,
            "left": null,
            "margin": null,
            "max_height": null,
            "max_width": null,
            "min_height": null,
            "min_width": null,
            "object_fit": null,
            "object_position": null,
            "order": null,
            "overflow": null,
            "overflow_x": null,
            "overflow_y": null,
            "padding": null,
            "right": null,
            "top": null,
            "visibility": null,
            "width": null
          }
        },
        "d8816c2fa7294d86abada670fdc4daad": {
          "model_module": "@jupyter-widgets/controls",
          "model_name": "ProgressStyleModel",
          "model_module_version": "1.5.0",
          "state": {
            "_model_module": "@jupyter-widgets/controls",
            "_model_module_version": "1.5.0",
            "_model_name": "ProgressStyleModel",
            "_view_count": null,
            "_view_module": "@jupyter-widgets/base",
            "_view_module_version": "1.2.0",
            "_view_name": "StyleView",
            "bar_color": null,
            "description_width": ""
          }
        },
        "34856fce86254e05b0e023a81ae64c60": {
          "model_module": "@jupyter-widgets/base",
          "model_name": "LayoutModel",
          "model_module_version": "1.2.0",
          "state": {
            "_model_module": "@jupyter-widgets/base",
            "_model_module_version": "1.2.0",
            "_model_name": "LayoutModel",
            "_view_count": null,
            "_view_module": "@jupyter-widgets/base",
            "_view_module_version": "1.2.0",
            "_view_name": "LayoutView",
            "align_content": null,
            "align_items": null,
            "align_self": null,
            "border": null,
            "bottom": null,
            "display": null,
            "flex": null,
            "flex_flow": null,
            "grid_area": null,
            "grid_auto_columns": null,
            "grid_auto_flow": null,
            "grid_auto_rows": null,
            "grid_column": null,
            "grid_gap": null,
            "grid_row": null,
            "grid_template_areas": null,
            "grid_template_columns": null,
            "grid_template_rows": null,
            "height": null,
            "justify_content": null,
            "justify_items": null,
            "left": null,
            "margin": null,
            "max_height": null,
            "max_width": null,
            "min_height": null,
            "min_width": null,
            "object_fit": null,
            "object_position": null,
            "order": null,
            "overflow": null,
            "overflow_x": null,
            "overflow_y": null,
            "padding": null,
            "right": null,
            "top": null,
            "visibility": null,
            "width": null
          }
        },
        "6c781ae9b311479f87b13769c0ca8a67": {
          "model_module": "@jupyter-widgets/controls",
          "model_name": "DescriptionStyleModel",
          "model_module_version": "1.5.0",
          "state": {
            "_model_module": "@jupyter-widgets/controls",
            "_model_module_version": "1.5.0",
            "_model_name": "DescriptionStyleModel",
            "_view_count": null,
            "_view_module": "@jupyter-widgets/base",
            "_view_module_version": "1.2.0",
            "_view_name": "StyleView",
            "description_width": ""
          }
        },
        "5076c9f503ec4acd8de32cf9cbaf9e17": {
          "model_module": "@jupyter-widgets/controls",
          "model_name": "HBoxModel",
          "model_module_version": "1.5.0",
          "state": {
            "_dom_classes": [],
            "_model_module": "@jupyter-widgets/controls",
            "_model_module_version": "1.5.0",
            "_model_name": "HBoxModel",
            "_view_count": null,
            "_view_module": "@jupyter-widgets/controls",
            "_view_module_version": "1.5.0",
            "_view_name": "HBoxView",
            "box_style": "",
            "children": [
              "IPY_MODEL_96f91d06699443a9bcf7d6eed4203685",
              "IPY_MODEL_cf03f012a4f04619b88884d565afff49",
              "IPY_MODEL_67adb109f0534a059cdd018e24fa3621"
            ],
            "layout": "IPY_MODEL_fff047396680453182af9f60b501f074"
          }
        },
        "96f91d06699443a9bcf7d6eed4203685": {
          "model_module": "@jupyter-widgets/controls",
          "model_name": "HTMLModel",
          "model_module_version": "1.5.0",
          "state": {
            "_dom_classes": [],
            "_model_module": "@jupyter-widgets/controls",
            "_model_module_version": "1.5.0",
            "_model_name": "HTMLModel",
            "_view_count": null,
            "_view_module": "@jupyter-widgets/controls",
            "_view_module_version": "1.5.0",
            "_view_name": "HTMLView",
            "description": "",
            "description_tooltip": null,
            "layout": "IPY_MODEL_19c81f76c11b4e1a84477118dc1d05a0",
            "placeholder": "​",
            "style": "IPY_MODEL_0a3bd576f7da42c9aa866feacc7cfd83",
            "value": "config.json: 100%"
          }
        },
        "cf03f012a4f04619b88884d565afff49": {
          "model_module": "@jupyter-widgets/controls",
          "model_name": "FloatProgressModel",
          "model_module_version": "1.5.0",
          "state": {
            "_dom_classes": [],
            "_model_module": "@jupyter-widgets/controls",
            "_model_module_version": "1.5.0",
            "_model_name": "FloatProgressModel",
            "_view_count": null,
            "_view_module": "@jupyter-widgets/controls",
            "_view_module_version": "1.5.0",
            "_view_name": "ProgressView",
            "bar_style": "success",
            "description": "",
            "description_tooltip": null,
            "layout": "IPY_MODEL_f31eda9a9fbe4f54b3d294e59913a28d",
            "max": 1628,
            "min": 0,
            "orientation": "horizontal",
            "style": "IPY_MODEL_acab76000c914fe08bd306a5afc28e2d",
            "value": 1628
          }
        },
        "67adb109f0534a059cdd018e24fa3621": {
          "model_module": "@jupyter-widgets/controls",
          "model_name": "HTMLModel",
          "model_module_version": "1.5.0",
          "state": {
            "_dom_classes": [],
            "_model_module": "@jupyter-widgets/controls",
            "_model_module_version": "1.5.0",
            "_model_name": "HTMLModel",
            "_view_count": null,
            "_view_module": "@jupyter-widgets/controls",
            "_view_module_version": "1.5.0",
            "_view_name": "HTMLView",
            "description": "",
            "description_tooltip": null,
            "layout": "IPY_MODEL_3015068e07584c1a86a246f62a35a923",
            "placeholder": "​",
            "style": "IPY_MODEL_70fbe5a565894b9f8e8da352245f2962",
            "value": " 1.63k/1.63k [00:00&lt;00:00, 104kB/s]"
          }
        },
        "fff047396680453182af9f60b501f074": {
          "model_module": "@jupyter-widgets/base",
          "model_name": "LayoutModel",
          "model_module_version": "1.2.0",
          "state": {
            "_model_module": "@jupyter-widgets/base",
            "_model_module_version": "1.2.0",
            "_model_name": "LayoutModel",
            "_view_count": null,
            "_view_module": "@jupyter-widgets/base",
            "_view_module_version": "1.2.0",
            "_view_name": "LayoutView",
            "align_content": null,
            "align_items": null,
            "align_self": null,
            "border": null,
            "bottom": null,
            "display": null,
            "flex": null,
            "flex_flow": null,
            "grid_area": null,
            "grid_auto_columns": null,
            "grid_auto_flow": null,
            "grid_auto_rows": null,
            "grid_column": null,
            "grid_gap": null,
            "grid_row": null,
            "grid_template_areas": null,
            "grid_template_columns": null,
            "grid_template_rows": null,
            "height": null,
            "justify_content": null,
            "justify_items": null,
            "left": null,
            "margin": null,
            "max_height": null,
            "max_width": null,
            "min_height": null,
            "min_width": null,
            "object_fit": null,
            "object_position": null,
            "order": null,
            "overflow": null,
            "overflow_x": null,
            "overflow_y": null,
            "padding": null,
            "right": null,
            "top": null,
            "visibility": null,
            "width": null
          }
        },
        "19c81f76c11b4e1a84477118dc1d05a0": {
          "model_module": "@jupyter-widgets/base",
          "model_name": "LayoutModel",
          "model_module_version": "1.2.0",
          "state": {
            "_model_module": "@jupyter-widgets/base",
            "_model_module_version": "1.2.0",
            "_model_name": "LayoutModel",
            "_view_count": null,
            "_view_module": "@jupyter-widgets/base",
            "_view_module_version": "1.2.0",
            "_view_name": "LayoutView",
            "align_content": null,
            "align_items": null,
            "align_self": null,
            "border": null,
            "bottom": null,
            "display": null,
            "flex": null,
            "flex_flow": null,
            "grid_area": null,
            "grid_auto_columns": null,
            "grid_auto_flow": null,
            "grid_auto_rows": null,
            "grid_column": null,
            "grid_gap": null,
            "grid_row": null,
            "grid_template_areas": null,
            "grid_template_columns": null,
            "grid_template_rows": null,
            "height": null,
            "justify_content": null,
            "justify_items": null,
            "left": null,
            "margin": null,
            "max_height": null,
            "max_width": null,
            "min_height": null,
            "min_width": null,
            "object_fit": null,
            "object_position": null,
            "order": null,
            "overflow": null,
            "overflow_x": null,
            "overflow_y": null,
            "padding": null,
            "right": null,
            "top": null,
            "visibility": null,
            "width": null
          }
        },
        "0a3bd576f7da42c9aa866feacc7cfd83": {
          "model_module": "@jupyter-widgets/controls",
          "model_name": "DescriptionStyleModel",
          "model_module_version": "1.5.0",
          "state": {
            "_model_module": "@jupyter-widgets/controls",
            "_model_module_version": "1.5.0",
            "_model_name": "DescriptionStyleModel",
            "_view_count": null,
            "_view_module": "@jupyter-widgets/base",
            "_view_module_version": "1.2.0",
            "_view_name": "StyleView",
            "description_width": ""
          }
        },
        "f31eda9a9fbe4f54b3d294e59913a28d": {
          "model_module": "@jupyter-widgets/base",
          "model_name": "LayoutModel",
          "model_module_version": "1.2.0",
          "state": {
            "_model_module": "@jupyter-widgets/base",
            "_model_module_version": "1.2.0",
            "_model_name": "LayoutModel",
            "_view_count": null,
            "_view_module": "@jupyter-widgets/base",
            "_view_module_version": "1.2.0",
            "_view_name": "LayoutView",
            "align_content": null,
            "align_items": null,
            "align_self": null,
            "border": null,
            "bottom": null,
            "display": null,
            "flex": null,
            "flex_flow": null,
            "grid_area": null,
            "grid_auto_columns": null,
            "grid_auto_flow": null,
            "grid_auto_rows": null,
            "grid_column": null,
            "grid_gap": null,
            "grid_row": null,
            "grid_template_areas": null,
            "grid_template_columns": null,
            "grid_template_rows": null,
            "height": null,
            "justify_content": null,
            "justify_items": null,
            "left": null,
            "margin": null,
            "max_height": null,
            "max_width": null,
            "min_height": null,
            "min_width": null,
            "object_fit": null,
            "object_position": null,
            "order": null,
            "overflow": null,
            "overflow_x": null,
            "overflow_y": null,
            "padding": null,
            "right": null,
            "top": null,
            "visibility": null,
            "width": null
          }
        },
        "acab76000c914fe08bd306a5afc28e2d": {
          "model_module": "@jupyter-widgets/controls",
          "model_name": "ProgressStyleModel",
          "model_module_version": "1.5.0",
          "state": {
            "_model_module": "@jupyter-widgets/controls",
            "_model_module_version": "1.5.0",
            "_model_name": "ProgressStyleModel",
            "_view_count": null,
            "_view_module": "@jupyter-widgets/base",
            "_view_module_version": "1.2.0",
            "_view_name": "StyleView",
            "bar_color": null,
            "description_width": ""
          }
        },
        "3015068e07584c1a86a246f62a35a923": {
          "model_module": "@jupyter-widgets/base",
          "model_name": "LayoutModel",
          "model_module_version": "1.2.0",
          "state": {
            "_model_module": "@jupyter-widgets/base",
            "_model_module_version": "1.2.0",
            "_model_name": "LayoutModel",
            "_view_count": null,
            "_view_module": "@jupyter-widgets/base",
            "_view_module_version": "1.2.0",
            "_view_name": "LayoutView",
            "align_content": null,
            "align_items": null,
            "align_self": null,
            "border": null,
            "bottom": null,
            "display": null,
            "flex": null,
            "flex_flow": null,
            "grid_area": null,
            "grid_auto_columns": null,
            "grid_auto_flow": null,
            "grid_auto_rows": null,
            "grid_column": null,
            "grid_gap": null,
            "grid_row": null,
            "grid_template_areas": null,
            "grid_template_columns": null,
            "grid_template_rows": null,
            "height": null,
            "justify_content": null,
            "justify_items": null,
            "left": null,
            "margin": null,
            "max_height": null,
            "max_width": null,
            "min_height": null,
            "min_width": null,
            "object_fit": null,
            "object_position": null,
            "order": null,
            "overflow": null,
            "overflow_x": null,
            "overflow_y": null,
            "padding": null,
            "right": null,
            "top": null,
            "visibility": null,
            "width": null
          }
        },
        "70fbe5a565894b9f8e8da352245f2962": {
          "model_module": "@jupyter-widgets/controls",
          "model_name": "DescriptionStyleModel",
          "model_module_version": "1.5.0",
          "state": {
            "_model_module": "@jupyter-widgets/controls",
            "_model_module_version": "1.5.0",
            "_model_name": "DescriptionStyleModel",
            "_view_count": null,
            "_view_module": "@jupyter-widgets/base",
            "_view_module_version": "1.2.0",
            "_view_name": "StyleView",
            "description_width": ""
          }
        },
        "1898089ab04b4e55be8ca8d8709629d8": {
          "model_module": "@jupyter-widgets/controls",
          "model_name": "HBoxModel",
          "model_module_version": "1.5.0",
          "state": {
            "_dom_classes": [],
            "_model_module": "@jupyter-widgets/controls",
            "_model_module_version": "1.5.0",
            "_model_name": "HBoxModel",
            "_view_count": null,
            "_view_module": "@jupyter-widgets/controls",
            "_view_module_version": "1.5.0",
            "_view_name": "HBoxView",
            "box_style": "",
            "children": [
              "IPY_MODEL_b49558d48d3740b7840a6c9b5bf40c95",
              "IPY_MODEL_2b6d5dbf764f4ecfb062f9fd6528ac7a",
              "IPY_MODEL_69458a405039454a82f602e79a874518"
            ],
            "layout": "IPY_MODEL_92aff3302a9242e7b7c518b810927cf1"
          }
        },
        "b49558d48d3740b7840a6c9b5bf40c95": {
          "model_module": "@jupyter-widgets/controls",
          "model_name": "HTMLModel",
          "model_module_version": "1.5.0",
          "state": {
            "_dom_classes": [],
            "_model_module": "@jupyter-widgets/controls",
            "_model_module_version": "1.5.0",
            "_model_name": "HTMLModel",
            "_view_count": null,
            "_view_module": "@jupyter-widgets/controls",
            "_view_module_version": "1.5.0",
            "_view_name": "HTMLView",
            "description": "",
            "description_tooltip": null,
            "layout": "IPY_MODEL_d06d7e638a4e4c3a84113435e37d0bf9",
            "placeholder": "​",
            "style": "IPY_MODEL_b2c36a99fa054cb6add70406a6508b18",
            "value": "pytorch_model.bin: 100%"
          }
        },
        "2b6d5dbf764f4ecfb062f9fd6528ac7a": {
          "model_module": "@jupyter-widgets/controls",
          "model_name": "FloatProgressModel",
          "model_module_version": "1.5.0",
          "state": {
            "_dom_classes": [],
            "_model_module": "@jupyter-widgets/controls",
            "_model_module_version": "1.5.0",
            "_model_name": "FloatProgressModel",
            "_view_count": null,
            "_view_module": "@jupyter-widgets/controls",
            "_view_module_version": "1.5.0",
            "_view_name": "ProgressView",
            "bar_style": "success",
            "description": "",
            "description_tooltip": null,
            "layout": "IPY_MODEL_2e82d908d46b4b2fa2d35bb28ae723c5",
            "max": 1018571383,
            "min": 0,
            "orientation": "horizontal",
            "style": "IPY_MODEL_be6ed781ce59409985e5789d1dbc605e",
            "value": 1018571383
          }
        },
        "69458a405039454a82f602e79a874518": {
          "model_module": "@jupyter-widgets/controls",
          "model_name": "HTMLModel",
          "model_module_version": "1.5.0",
          "state": {
            "_dom_classes": [],
            "_model_module": "@jupyter-widgets/controls",
            "_model_module_version": "1.5.0",
            "_model_name": "HTMLModel",
            "_view_count": null,
            "_view_module": "@jupyter-widgets/controls",
            "_view_module_version": "1.5.0",
            "_view_name": "HTMLView",
            "description": "",
            "description_tooltip": null,
            "layout": "IPY_MODEL_8fdbdead98e54136a2261cc2a679451f",
            "placeholder": "​",
            "style": "IPY_MODEL_72014ae79333449fa4d88349533e87a9",
            "value": " 1.02G/1.02G [00:33&lt;00:00, 113MB/s]"
          }
        },
        "92aff3302a9242e7b7c518b810927cf1": {
          "model_module": "@jupyter-widgets/base",
          "model_name": "LayoutModel",
          "model_module_version": "1.2.0",
          "state": {
            "_model_module": "@jupyter-widgets/base",
            "_model_module_version": "1.2.0",
            "_model_name": "LayoutModel",
            "_view_count": null,
            "_view_module": "@jupyter-widgets/base",
            "_view_module_version": "1.2.0",
            "_view_name": "LayoutView",
            "align_content": null,
            "align_items": null,
            "align_self": null,
            "border": null,
            "bottom": null,
            "display": null,
            "flex": null,
            "flex_flow": null,
            "grid_area": null,
            "grid_auto_columns": null,
            "grid_auto_flow": null,
            "grid_auto_rows": null,
            "grid_column": null,
            "grid_gap": null,
            "grid_row": null,
            "grid_template_areas": null,
            "grid_template_columns": null,
            "grid_template_rows": null,
            "height": null,
            "justify_content": null,
            "justify_items": null,
            "left": null,
            "margin": null,
            "max_height": null,
            "max_width": null,
            "min_height": null,
            "min_width": null,
            "object_fit": null,
            "object_position": null,
            "order": null,
            "overflow": null,
            "overflow_x": null,
            "overflow_y": null,
            "padding": null,
            "right": null,
            "top": null,
            "visibility": null,
            "width": null
          }
        },
        "d06d7e638a4e4c3a84113435e37d0bf9": {
          "model_module": "@jupyter-widgets/base",
          "model_name": "LayoutModel",
          "model_module_version": "1.2.0",
          "state": {
            "_model_module": "@jupyter-widgets/base",
            "_model_module_version": "1.2.0",
            "_model_name": "LayoutModel",
            "_view_count": null,
            "_view_module": "@jupyter-widgets/base",
            "_view_module_version": "1.2.0",
            "_view_name": "LayoutView",
            "align_content": null,
            "align_items": null,
            "align_self": null,
            "border": null,
            "bottom": null,
            "display": null,
            "flex": null,
            "flex_flow": null,
            "grid_area": null,
            "grid_auto_columns": null,
            "grid_auto_flow": null,
            "grid_auto_rows": null,
            "grid_column": null,
            "grid_gap": null,
            "grid_row": null,
            "grid_template_areas": null,
            "grid_template_columns": null,
            "grid_template_rows": null,
            "height": null,
            "justify_content": null,
            "justify_items": null,
            "left": null,
            "margin": null,
            "max_height": null,
            "max_width": null,
            "min_height": null,
            "min_width": null,
            "object_fit": null,
            "object_position": null,
            "order": null,
            "overflow": null,
            "overflow_x": null,
            "overflow_y": null,
            "padding": null,
            "right": null,
            "top": null,
            "visibility": null,
            "width": null
          }
        },
        "b2c36a99fa054cb6add70406a6508b18": {
          "model_module": "@jupyter-widgets/controls",
          "model_name": "DescriptionStyleModel",
          "model_module_version": "1.5.0",
          "state": {
            "_model_module": "@jupyter-widgets/controls",
            "_model_module_version": "1.5.0",
            "_model_name": "DescriptionStyleModel",
            "_view_count": null,
            "_view_module": "@jupyter-widgets/base",
            "_view_module_version": "1.2.0",
            "_view_name": "StyleView",
            "description_width": ""
          }
        },
        "2e82d908d46b4b2fa2d35bb28ae723c5": {
          "model_module": "@jupyter-widgets/base",
          "model_name": "LayoutModel",
          "model_module_version": "1.2.0",
          "state": {
            "_model_module": "@jupyter-widgets/base",
            "_model_module_version": "1.2.0",
            "_model_name": "LayoutModel",
            "_view_count": null,
            "_view_module": "@jupyter-widgets/base",
            "_view_module_version": "1.2.0",
            "_view_name": "LayoutView",
            "align_content": null,
            "align_items": null,
            "align_self": null,
            "border": null,
            "bottom": null,
            "display": null,
            "flex": null,
            "flex_flow": null,
            "grid_area": null,
            "grid_auto_columns": null,
            "grid_auto_flow": null,
            "grid_auto_rows": null,
            "grid_column": null,
            "grid_gap": null,
            "grid_row": null,
            "grid_template_areas": null,
            "grid_template_columns": null,
            "grid_template_rows": null,
            "height": null,
            "justify_content": null,
            "justify_items": null,
            "left": null,
            "margin": null,
            "max_height": null,
            "max_width": null,
            "min_height": null,
            "min_width": null,
            "object_fit": null,
            "object_position": null,
            "order": null,
            "overflow": null,
            "overflow_x": null,
            "overflow_y": null,
            "padding": null,
            "right": null,
            "top": null,
            "visibility": null,
            "width": null
          }
        },
        "be6ed781ce59409985e5789d1dbc605e": {
          "model_module": "@jupyter-widgets/controls",
          "model_name": "ProgressStyleModel",
          "model_module_version": "1.5.0",
          "state": {
            "_model_module": "@jupyter-widgets/controls",
            "_model_module_version": "1.5.0",
            "_model_name": "ProgressStyleModel",
            "_view_count": null,
            "_view_module": "@jupyter-widgets/base",
            "_view_module_version": "1.2.0",
            "_view_name": "StyleView",
            "bar_color": null,
            "description_width": ""
          }
        },
        "8fdbdead98e54136a2261cc2a679451f": {
          "model_module": "@jupyter-widgets/base",
          "model_name": "LayoutModel",
          "model_module_version": "1.2.0",
          "state": {
            "_model_module": "@jupyter-widgets/base",
            "_model_module_version": "1.2.0",
            "_model_name": "LayoutModel",
            "_view_count": null,
            "_view_module": "@jupyter-widgets/base",
            "_view_module_version": "1.2.0",
            "_view_name": "LayoutView",
            "align_content": null,
            "align_items": null,
            "align_self": null,
            "border": null,
            "bottom": null,
            "display": null,
            "flex": null,
            "flex_flow": null,
            "grid_area": null,
            "grid_auto_columns": null,
            "grid_auto_flow": null,
            "grid_auto_rows": null,
            "grid_column": null,
            "grid_gap": null,
            "grid_row": null,
            "grid_template_areas": null,
            "grid_template_columns": null,
            "grid_template_rows": null,
            "height": null,
            "justify_content": null,
            "justify_items": null,
            "left": null,
            "margin": null,
            "max_height": null,
            "max_width": null,
            "min_height": null,
            "min_width": null,
            "object_fit": null,
            "object_position": null,
            "order": null,
            "overflow": null,
            "overflow_x": null,
            "overflow_y": null,
            "padding": null,
            "right": null,
            "top": null,
            "visibility": null,
            "width": null
          }
        },
        "72014ae79333449fa4d88349533e87a9": {
          "model_module": "@jupyter-widgets/controls",
          "model_name": "DescriptionStyleModel",
          "model_module_version": "1.5.0",
          "state": {
            "_model_module": "@jupyter-widgets/controls",
            "_model_module_version": "1.5.0",
            "_model_name": "DescriptionStyleModel",
            "_view_count": null,
            "_view_module": "@jupyter-widgets/base",
            "_view_module_version": "1.2.0",
            "_view_name": "StyleView",
            "description_width": ""
          }
        },
        "966c6c5b03824b68852a2eb0d7b348d2": {
          "model_module": "@jupyter-widgets/controls",
          "model_name": "HBoxModel",
          "model_module_version": "1.5.0",
          "state": {
            "_dom_classes": [],
            "_model_module": "@jupyter-widgets/controls",
            "_model_module_version": "1.5.0",
            "_model_name": "HBoxModel",
            "_view_count": null,
            "_view_module": "@jupyter-widgets/controls",
            "_view_module_version": "1.5.0",
            "_view_name": "HBoxView",
            "box_style": "",
            "children": [
              "IPY_MODEL_fa5e5dff68ca4ea8bbbc89b2959cd8b1",
              "IPY_MODEL_1d3f1d7d77c84b41bd4e508ca4accab2",
              "IPY_MODEL_d7d0f54f466841e4ada7a074cd1c457a"
            ],
            "layout": "IPY_MODEL_da758252618148f080d10098afcd4feb"
          }
        },
        "fa5e5dff68ca4ea8bbbc89b2959cd8b1": {
          "model_module": "@jupyter-widgets/controls",
          "model_name": "HTMLModel",
          "model_module_version": "1.5.0",
          "state": {
            "_dom_classes": [],
            "_model_module": "@jupyter-widgets/controls",
            "_model_module_version": "1.5.0",
            "_model_name": "HTMLModel",
            "_view_count": null,
            "_view_module": "@jupyter-widgets/controls",
            "_view_module_version": "1.5.0",
            "_view_name": "HTMLView",
            "description": "",
            "description_tooltip": null,
            "layout": "IPY_MODEL_a4055585243646bf9f1c405023537baf",
            "placeholder": "​",
            "style": "IPY_MODEL_229a78b7fa554afc9441504d8fefecb5",
            "value": "model.safetensors: 100%"
          }
        },
        "1d3f1d7d77c84b41bd4e508ca4accab2": {
          "model_module": "@jupyter-widgets/controls",
          "model_name": "FloatProgressModel",
          "model_module_version": "1.5.0",
          "state": {
            "_dom_classes": [],
            "_model_module": "@jupyter-widgets/controls",
            "_model_module_version": "1.5.0",
            "_model_name": "FloatProgressModel",
            "_view_count": null,
            "_view_module": "@jupyter-widgets/controls",
            "_view_module_version": "1.5.0",
            "_view_name": "ProgressView",
            "bar_style": "success",
            "description": "",
            "description_tooltip": null,
            "layout": "IPY_MODEL_72ac88e85d0b4d398b395341ae87c1c0",
            "max": 1018525342,
            "min": 0,
            "orientation": "horizontal",
            "style": "IPY_MODEL_84dbda1a1d8a4f6c9ba62830ded6a966",
            "value": 1018525342
          }
        },
        "d7d0f54f466841e4ada7a074cd1c457a": {
          "model_module": "@jupyter-widgets/controls",
          "model_name": "HTMLModel",
          "model_module_version": "1.5.0",
          "state": {
            "_dom_classes": [],
            "_model_module": "@jupyter-widgets/controls",
            "_model_module_version": "1.5.0",
            "_model_name": "HTMLModel",
            "_view_count": null,
            "_view_module": "@jupyter-widgets/controls",
            "_view_module_version": "1.5.0",
            "_view_name": "HTMLView",
            "description": "",
            "description_tooltip": null,
            "layout": "IPY_MODEL_e6c36faed1974f5db2999c4ef7e21cc5",
            "placeholder": "​",
            "style": "IPY_MODEL_bf34f7f2ac4b4c44969146e59e5966bb",
            "value": " 1.02G/1.02G [00:42&lt;00:00, 16.5MB/s]"
          }
        },
        "da758252618148f080d10098afcd4feb": {
          "model_module": "@jupyter-widgets/base",
          "model_name": "LayoutModel",
          "model_module_version": "1.2.0",
          "state": {
            "_model_module": "@jupyter-widgets/base",
            "_model_module_version": "1.2.0",
            "_model_name": "LayoutModel",
            "_view_count": null,
            "_view_module": "@jupyter-widgets/base",
            "_view_module_version": "1.2.0",
            "_view_name": "LayoutView",
            "align_content": null,
            "align_items": null,
            "align_self": null,
            "border": null,
            "bottom": null,
            "display": null,
            "flex": null,
            "flex_flow": null,
            "grid_area": null,
            "grid_auto_columns": null,
            "grid_auto_flow": null,
            "grid_auto_rows": null,
            "grid_column": null,
            "grid_gap": null,
            "grid_row": null,
            "grid_template_areas": null,
            "grid_template_columns": null,
            "grid_template_rows": null,
            "height": null,
            "justify_content": null,
            "justify_items": null,
            "left": null,
            "margin": null,
            "max_height": null,
            "max_width": null,
            "min_height": null,
            "min_width": null,
            "object_fit": null,
            "object_position": null,
            "order": null,
            "overflow": null,
            "overflow_x": null,
            "overflow_y": null,
            "padding": null,
            "right": null,
            "top": null,
            "visibility": null,
            "width": null
          }
        },
        "a4055585243646bf9f1c405023537baf": {
          "model_module": "@jupyter-widgets/base",
          "model_name": "LayoutModel",
          "model_module_version": "1.2.0",
          "state": {
            "_model_module": "@jupyter-widgets/base",
            "_model_module_version": "1.2.0",
            "_model_name": "LayoutModel",
            "_view_count": null,
            "_view_module": "@jupyter-widgets/base",
            "_view_module_version": "1.2.0",
            "_view_name": "LayoutView",
            "align_content": null,
            "align_items": null,
            "align_self": null,
            "border": null,
            "bottom": null,
            "display": null,
            "flex": null,
            "flex_flow": null,
            "grid_area": null,
            "grid_auto_columns": null,
            "grid_auto_flow": null,
            "grid_auto_rows": null,
            "grid_column": null,
            "grid_gap": null,
            "grid_row": null,
            "grid_template_areas": null,
            "grid_template_columns": null,
            "grid_template_rows": null,
            "height": null,
            "justify_content": null,
            "justify_items": null,
            "left": null,
            "margin": null,
            "max_height": null,
            "max_width": null,
            "min_height": null,
            "min_width": null,
            "object_fit": null,
            "object_position": null,
            "order": null,
            "overflow": null,
            "overflow_x": null,
            "overflow_y": null,
            "padding": null,
            "right": null,
            "top": null,
            "visibility": null,
            "width": null
          }
        },
        "229a78b7fa554afc9441504d8fefecb5": {
          "model_module": "@jupyter-widgets/controls",
          "model_name": "DescriptionStyleModel",
          "model_module_version": "1.5.0",
          "state": {
            "_model_module": "@jupyter-widgets/controls",
            "_model_module_version": "1.5.0",
            "_model_name": "DescriptionStyleModel",
            "_view_count": null,
            "_view_module": "@jupyter-widgets/base",
            "_view_module_version": "1.2.0",
            "_view_name": "StyleView",
            "description_width": ""
          }
        },
        "72ac88e85d0b4d398b395341ae87c1c0": {
          "model_module": "@jupyter-widgets/base",
          "model_name": "LayoutModel",
          "model_module_version": "1.2.0",
          "state": {
            "_model_module": "@jupyter-widgets/base",
            "_model_module_version": "1.2.0",
            "_model_name": "LayoutModel",
            "_view_count": null,
            "_view_module": "@jupyter-widgets/base",
            "_view_module_version": "1.2.0",
            "_view_name": "LayoutView",
            "align_content": null,
            "align_items": null,
            "align_self": null,
            "border": null,
            "bottom": null,
            "display": null,
            "flex": null,
            "flex_flow": null,
            "grid_area": null,
            "grid_auto_columns": null,
            "grid_auto_flow": null,
            "grid_auto_rows": null,
            "grid_column": null,
            "grid_gap": null,
            "grid_row": null,
            "grid_template_areas": null,
            "grid_template_columns": null,
            "grid_template_rows": null,
            "height": null,
            "justify_content": null,
            "justify_items": null,
            "left": null,
            "margin": null,
            "max_height": null,
            "max_width": null,
            "min_height": null,
            "min_width": null,
            "object_fit": null,
            "object_position": null,
            "order": null,
            "overflow": null,
            "overflow_x": null,
            "overflow_y": null,
            "padding": null,
            "right": null,
            "top": null,
            "visibility": null,
            "width": null
          }
        },
        "84dbda1a1d8a4f6c9ba62830ded6a966": {
          "model_module": "@jupyter-widgets/controls",
          "model_name": "ProgressStyleModel",
          "model_module_version": "1.5.0",
          "state": {
            "_model_module": "@jupyter-widgets/controls",
            "_model_module_version": "1.5.0",
            "_model_name": "ProgressStyleModel",
            "_view_count": null,
            "_view_module": "@jupyter-widgets/base",
            "_view_module_version": "1.2.0",
            "_view_name": "StyleView",
            "bar_color": null,
            "description_width": ""
          }
        },
        "e6c36faed1974f5db2999c4ef7e21cc5": {
          "model_module": "@jupyter-widgets/base",
          "model_name": "LayoutModel",
          "model_module_version": "1.2.0",
          "state": {
            "_model_module": "@jupyter-widgets/base",
            "_model_module_version": "1.2.0",
            "_model_name": "LayoutModel",
            "_view_count": null,
            "_view_module": "@jupyter-widgets/base",
            "_view_module_version": "1.2.0",
            "_view_name": "LayoutView",
            "align_content": null,
            "align_items": null,
            "align_self": null,
            "border": null,
            "bottom": null,
            "display": null,
            "flex": null,
            "flex_flow": null,
            "grid_area": null,
            "grid_auto_columns": null,
            "grid_auto_flow": null,
            "grid_auto_rows": null,
            "grid_column": null,
            "grid_gap": null,
            "grid_row": null,
            "grid_template_areas": null,
            "grid_template_columns": null,
            "grid_template_rows": null,
            "height": null,
            "justify_content": null,
            "justify_items": null,
            "left": null,
            "margin": null,
            "max_height": null,
            "max_width": null,
            "min_height": null,
            "min_width": null,
            "object_fit": null,
            "object_position": null,
            "order": null,
            "overflow": null,
            "overflow_x": null,
            "overflow_y": null,
            "padding": null,
            "right": null,
            "top": null,
            "visibility": null,
            "width": null
          }
        },
        "bf34f7f2ac4b4c44969146e59e5966bb": {
          "model_module": "@jupyter-widgets/controls",
          "model_name": "DescriptionStyleModel",
          "model_module_version": "1.5.0",
          "state": {
            "_model_module": "@jupyter-widgets/controls",
            "_model_module_version": "1.5.0",
            "_model_name": "DescriptionStyleModel",
            "_view_count": null,
            "_view_module": "@jupyter-widgets/base",
            "_view_module_version": "1.2.0",
            "_view_name": "StyleView",
            "description_width": ""
          }
        }
      }
    }
  },
  "cells": [
    {
      "cell_type": "markdown",
      "source": [
        "# Part 1: Transformers\n",
        "\n",
        "## Task 1\n",
        "\n",
        "I am using the Facebook BART model that uses Natural Language Processing for text summarization of news articles. The dataset I will be using this on is News from XSum, CNN/Daily Mail, and Multi-News from Kaggle.\n",
        "\n",
        "Sources:\n",
        "\n",
        "https://huggingface.co/docs/transformers/en/model_doc/bart\n",
        "\n",
        "https://www.kaggle.com/datasets/sbhatti/news-summarization\n",
        "\n",
        "https://github.com/facebookresearch/fairseq/tree/main/examples/bart\n",
        "\n",
        "https://huggingface.co/docs/transformers/en/main_classes/trainer"
      ],
      "metadata": {
        "id": "WIpfV9IN0gGq"
      }
    },
    {
      "cell_type": "code",
      "source": [
        "!pip install kagglehub[pandas-datasets]"
      ],
      "metadata": {
        "colab": {
          "base_uri": "https://localhost:8080/"
        },
        "id": "5CP9UqJlZO83",
        "outputId": "2a7718d0-7dc8-45c4-b2e1-6fb199d634e0"
      },
      "execution_count": 9,
      "outputs": [
        {
          "output_type": "stream",
          "name": "stdout",
          "text": [
            "Requirement already satisfied: kagglehub[pandas-datasets] in /usr/local/lib/python3.11/dist-packages (0.3.10)\n",
            "Requirement already satisfied: packaging in /usr/local/lib/python3.11/dist-packages (from kagglehub[pandas-datasets]) (24.2)\n",
            "Requirement already satisfied: pyyaml in /usr/local/lib/python3.11/dist-packages (from kagglehub[pandas-datasets]) (6.0.2)\n",
            "Requirement already satisfied: requests in /usr/local/lib/python3.11/dist-packages (from kagglehub[pandas-datasets]) (2.32.3)\n",
            "Requirement already satisfied: tqdm in /usr/local/lib/python3.11/dist-packages (from kagglehub[pandas-datasets]) (4.67.1)\n",
            "Requirement already satisfied: pandas in /usr/local/lib/python3.11/dist-packages (from kagglehub[pandas-datasets]) (2.2.2)\n",
            "Requirement already satisfied: numpy>=1.23.2 in /usr/local/lib/python3.11/dist-packages (from pandas->kagglehub[pandas-datasets]) (2.0.2)\n",
            "Requirement already satisfied: python-dateutil>=2.8.2 in /usr/local/lib/python3.11/dist-packages (from pandas->kagglehub[pandas-datasets]) (2.8.2)\n",
            "Requirement already satisfied: pytz>=2020.1 in /usr/local/lib/python3.11/dist-packages (from pandas->kagglehub[pandas-datasets]) (2025.2)\n",
            "Requirement already satisfied: tzdata>=2022.7 in /usr/local/lib/python3.11/dist-packages (from pandas->kagglehub[pandas-datasets]) (2025.2)\n",
            "Requirement already satisfied: charset-normalizer<4,>=2 in /usr/local/lib/python3.11/dist-packages (from requests->kagglehub[pandas-datasets]) (3.4.1)\n",
            "Requirement already satisfied: idna<4,>=2.5 in /usr/local/lib/python3.11/dist-packages (from requests->kagglehub[pandas-datasets]) (3.10)\n",
            "Requirement already satisfied: urllib3<3,>=1.21.1 in /usr/local/lib/python3.11/dist-packages (from requests->kagglehub[pandas-datasets]) (2.3.0)\n",
            "Requirement already satisfied: certifi>=2017.4.17 in /usr/local/lib/python3.11/dist-packages (from requests->kagglehub[pandas-datasets]) (2025.1.31)\n",
            "Requirement already satisfied: six>=1.5 in /usr/local/lib/python3.11/dist-packages (from python-dateutil>=2.8.2->pandas->kagglehub[pandas-datasets]) (1.17.0)\n"
          ]
        }
      ]
    },
    {
      "cell_type": "code",
      "source": [
        "import kagglehub\n",
        "from kagglehub import KaggleDatasetAdapter\n",
        "import pandas as pd\n",
        "import matplotlib.pyplot as plt\n",
        "import seaborn as sns\n",
        "import numpy as np\n",
        "from sklearn.model_selection import train_test_split\n",
        "from sklearn.preprocessing import MinMaxScaler\n",
        "import torch\n",
        "from transformers import (\n",
        "    AutoModelForSeq2SeqLM,\n",
        "    AutoTokenizer,\n",
        "    Seq2SeqTrainingArguments,\n",
        "    Seq2SeqTrainer,\n",
        "    DataCollatorForSeq2Seq,\n",
        ")\n",
        "from transformers import BartTokenizer\n",
        "from tabulate import tabulate\n",
        "import random\n",
        "import nltk\n",
        "from transformers import BartForConditionalGeneration, BartTokenizer"
      ],
      "metadata": {
        "id": "XoDgdeZtZQ7B"
      },
      "execution_count": 32,
      "outputs": []
    },
    {
      "cell_type": "markdown",
      "source": [
        "### Data"
      ],
      "metadata": {
        "id": "XCLuysDCPFqn"
      }
    },
    {
      "cell_type": "code",
      "source": [
        "file_path = \"data.csv\"\n",
        "\n",
        "df = kagglehub.load_dataset(\n",
        "  KaggleDatasetAdapter.PANDAS,\n",
        "  \"sbhatti/news-summarization\",\n",
        "  file_path,\n",
        ")\n",
        "\n",
        "df.sample(5)"
      ],
      "metadata": {
        "colab": {
          "base_uri": "https://localhost:8080/",
          "height": 345
        },
        "id": "Q7ScSDTFZTab",
        "outputId": "66afca95-a98b-4173-e358-26ee66329eed"
      },
      "execution_count": 11,
      "outputs": [
        {
          "output_type": "stream",
          "name": "stderr",
          "text": [
            "<ipython-input-11-089835efe057>:3: DeprecationWarning: load_dataset is deprecated and will be removed in future version.\n",
            "  df = kagglehub.load_dataset(\n"
          ]
        },
        {
          "output_type": "execute_result",
          "data": {
            "text/plain": [
              "        Unnamed: 0                                        ID  \\\n",
              "387111      387111                                  32680981   \n",
              "775389      775389                                  32946022   \n",
              "371104      371104  6310ce2cb207bfd7be7f1e91368d86d88c883d97   \n",
              "393150      393150  d7a7ec47d0d308280dca3fb1c705849162fc5e8c   \n",
              "356082      356082  8a660dc84ee0edc53d8efe9d507b652318bdcfb1   \n",
              "\n",
              "                                                  Content  \\\n",
              "387111  Sgt Emile Cilliers, 35, from South Africa, was...   \n",
              "775389  Children at Ampertaine Primary School in Upper...   \n",
              "371104  By . Meghan Keneally . Every one of the former...   \n",
              "393150  By . Mike Dickson . Follow @@Mike_Dickson_DM ....   \n",
              "356082  (CNN)  -- Nazi war crimes suspect John Demjanj...   \n",
              "\n",
              "                                                  Summary         Dataset  \n",
              "387111  A man held on suspicion of attempted murder af...            XSum  \n",
              "775389  A Northern Ireland school that adopted Aston V...            XSum  \n",
              "371104  All eleven women who have ever hosted on The V...  CNN/Daily Mail  \n",
              "393150  Murray reveals he was unhappy at Alex Salmond ...  CNN/Daily Mail  \n",
              "356082  Attorney general's representatives said court ...  CNN/Daily Mail  "
            ],
            "text/html": [
              "\n",
              "  <div id=\"df-d59f192c-08e9-4eb6-8f71-d92f193d14c0\" class=\"colab-df-container\">\n",
              "    <div>\n",
              "<style scoped>\n",
              "    .dataframe tbody tr th:only-of-type {\n",
              "        vertical-align: middle;\n",
              "    }\n",
              "\n",
              "    .dataframe tbody tr th {\n",
              "        vertical-align: top;\n",
              "    }\n",
              "\n",
              "    .dataframe thead th {\n",
              "        text-align: right;\n",
              "    }\n",
              "</style>\n",
              "<table border=\"1\" class=\"dataframe\">\n",
              "  <thead>\n",
              "    <tr style=\"text-align: right;\">\n",
              "      <th></th>\n",
              "      <th>Unnamed: 0</th>\n",
              "      <th>ID</th>\n",
              "      <th>Content</th>\n",
              "      <th>Summary</th>\n",
              "      <th>Dataset</th>\n",
              "    </tr>\n",
              "  </thead>\n",
              "  <tbody>\n",
              "    <tr>\n",
              "      <th>387111</th>\n",
              "      <td>387111</td>\n",
              "      <td>32680981</td>\n",
              "      <td>Sgt Emile Cilliers, 35, from South Africa, was...</td>\n",
              "      <td>A man held on suspicion of attempted murder af...</td>\n",
              "      <td>XSum</td>\n",
              "    </tr>\n",
              "    <tr>\n",
              "      <th>775389</th>\n",
              "      <td>775389</td>\n",
              "      <td>32946022</td>\n",
              "      <td>Children at Ampertaine Primary School in Upper...</td>\n",
              "      <td>A Northern Ireland school that adopted Aston V...</td>\n",
              "      <td>XSum</td>\n",
              "    </tr>\n",
              "    <tr>\n",
              "      <th>371104</th>\n",
              "      <td>371104</td>\n",
              "      <td>6310ce2cb207bfd7be7f1e91368d86d88c883d97</td>\n",
              "      <td>By . Meghan Keneally . Every one of the former...</td>\n",
              "      <td>All eleven women who have ever hosted on The V...</td>\n",
              "      <td>CNN/Daily Mail</td>\n",
              "    </tr>\n",
              "    <tr>\n",
              "      <th>393150</th>\n",
              "      <td>393150</td>\n",
              "      <td>d7a7ec47d0d308280dca3fb1c705849162fc5e8c</td>\n",
              "      <td>By . Mike Dickson . Follow @@Mike_Dickson_DM ....</td>\n",
              "      <td>Murray reveals he was unhappy at Alex Salmond ...</td>\n",
              "      <td>CNN/Daily Mail</td>\n",
              "    </tr>\n",
              "    <tr>\n",
              "      <th>356082</th>\n",
              "      <td>356082</td>\n",
              "      <td>8a660dc84ee0edc53d8efe9d507b652318bdcfb1</td>\n",
              "      <td>(CNN)  -- Nazi war crimes suspect John Demjanj...</td>\n",
              "      <td>Attorney general's representatives said court ...</td>\n",
              "      <td>CNN/Daily Mail</td>\n",
              "    </tr>\n",
              "  </tbody>\n",
              "</table>\n",
              "</div>\n",
              "    <div class=\"colab-df-buttons\">\n",
              "\n",
              "  <div class=\"colab-df-container\">\n",
              "    <button class=\"colab-df-convert\" onclick=\"convertToInteractive('df-d59f192c-08e9-4eb6-8f71-d92f193d14c0')\"\n",
              "            title=\"Convert this dataframe to an interactive table.\"\n",
              "            style=\"display:none;\">\n",
              "\n",
              "  <svg xmlns=\"http://www.w3.org/2000/svg\" height=\"24px\" viewBox=\"0 -960 960 960\">\n",
              "    <path d=\"M120-120v-720h720v720H120Zm60-500h600v-160H180v160Zm220 220h160v-160H400v160Zm0 220h160v-160H400v160ZM180-400h160v-160H180v160Zm440 0h160v-160H620v160ZM180-180h160v-160H180v160Zm440 0h160v-160H620v160Z\"/>\n",
              "  </svg>\n",
              "    </button>\n",
              "\n",
              "  <style>\n",
              "    .colab-df-container {\n",
              "      display:flex;\n",
              "      gap: 12px;\n",
              "    }\n",
              "\n",
              "    .colab-df-convert {\n",
              "      background-color: #E8F0FE;\n",
              "      border: none;\n",
              "      border-radius: 50%;\n",
              "      cursor: pointer;\n",
              "      display: none;\n",
              "      fill: #1967D2;\n",
              "      height: 32px;\n",
              "      padding: 0 0 0 0;\n",
              "      width: 32px;\n",
              "    }\n",
              "\n",
              "    .colab-df-convert:hover {\n",
              "      background-color: #E2EBFA;\n",
              "      box-shadow: 0px 1px 2px rgba(60, 64, 67, 0.3), 0px 1px 3px 1px rgba(60, 64, 67, 0.15);\n",
              "      fill: #174EA6;\n",
              "    }\n",
              "\n",
              "    .colab-df-buttons div {\n",
              "      margin-bottom: 4px;\n",
              "    }\n",
              "\n",
              "    [theme=dark] .colab-df-convert {\n",
              "      background-color: #3B4455;\n",
              "      fill: #D2E3FC;\n",
              "    }\n",
              "\n",
              "    [theme=dark] .colab-df-convert:hover {\n",
              "      background-color: #434B5C;\n",
              "      box-shadow: 0px 1px 3px 1px rgba(0, 0, 0, 0.15);\n",
              "      filter: drop-shadow(0px 1px 2px rgba(0, 0, 0, 0.3));\n",
              "      fill: #FFFFFF;\n",
              "    }\n",
              "  </style>\n",
              "\n",
              "    <script>\n",
              "      const buttonEl =\n",
              "        document.querySelector('#df-d59f192c-08e9-4eb6-8f71-d92f193d14c0 button.colab-df-convert');\n",
              "      buttonEl.style.display =\n",
              "        google.colab.kernel.accessAllowed ? 'block' : 'none';\n",
              "\n",
              "      async function convertToInteractive(key) {\n",
              "        const element = document.querySelector('#df-d59f192c-08e9-4eb6-8f71-d92f193d14c0');\n",
              "        const dataTable =\n",
              "          await google.colab.kernel.invokeFunction('convertToInteractive',\n",
              "                                                    [key], {});\n",
              "        if (!dataTable) return;\n",
              "\n",
              "        const docLinkHtml = 'Like what you see? Visit the ' +\n",
              "          '<a target=\"_blank\" href=https://colab.research.google.com/notebooks/data_table.ipynb>data table notebook</a>'\n",
              "          + ' to learn more about interactive tables.';\n",
              "        element.innerHTML = '';\n",
              "        dataTable['output_type'] = 'display_data';\n",
              "        await google.colab.output.renderOutput(dataTable, element);\n",
              "        const docLink = document.createElement('div');\n",
              "        docLink.innerHTML = docLinkHtml;\n",
              "        element.appendChild(docLink);\n",
              "      }\n",
              "    </script>\n",
              "  </div>\n",
              "\n",
              "\n",
              "<div id=\"df-9057f091-b95f-4225-877d-b26b92842597\">\n",
              "  <button class=\"colab-df-quickchart\" onclick=\"quickchart('df-9057f091-b95f-4225-877d-b26b92842597')\"\n",
              "            title=\"Suggest charts\"\n",
              "            style=\"display:none;\">\n",
              "\n",
              "<svg xmlns=\"http://www.w3.org/2000/svg\" height=\"24px\"viewBox=\"0 0 24 24\"\n",
              "     width=\"24px\">\n",
              "    <g>\n",
              "        <path d=\"M19 3H5c-1.1 0-2 .9-2 2v14c0 1.1.9 2 2 2h14c1.1 0 2-.9 2-2V5c0-1.1-.9-2-2-2zM9 17H7v-7h2v7zm4 0h-2V7h2v10zm4 0h-2v-4h2v4z\"/>\n",
              "    </g>\n",
              "</svg>\n",
              "  </button>\n",
              "\n",
              "<style>\n",
              "  .colab-df-quickchart {\n",
              "      --bg-color: #E8F0FE;\n",
              "      --fill-color: #1967D2;\n",
              "      --hover-bg-color: #E2EBFA;\n",
              "      --hover-fill-color: #174EA6;\n",
              "      --disabled-fill-color: #AAA;\n",
              "      --disabled-bg-color: #DDD;\n",
              "  }\n",
              "\n",
              "  [theme=dark] .colab-df-quickchart {\n",
              "      --bg-color: #3B4455;\n",
              "      --fill-color: #D2E3FC;\n",
              "      --hover-bg-color: #434B5C;\n",
              "      --hover-fill-color: #FFFFFF;\n",
              "      --disabled-bg-color: #3B4455;\n",
              "      --disabled-fill-color: #666;\n",
              "  }\n",
              "\n",
              "  .colab-df-quickchart {\n",
              "    background-color: var(--bg-color);\n",
              "    border: none;\n",
              "    border-radius: 50%;\n",
              "    cursor: pointer;\n",
              "    display: none;\n",
              "    fill: var(--fill-color);\n",
              "    height: 32px;\n",
              "    padding: 0;\n",
              "    width: 32px;\n",
              "  }\n",
              "\n",
              "  .colab-df-quickchart:hover {\n",
              "    background-color: var(--hover-bg-color);\n",
              "    box-shadow: 0 1px 2px rgba(60, 64, 67, 0.3), 0 1px 3px 1px rgba(60, 64, 67, 0.15);\n",
              "    fill: var(--button-hover-fill-color);\n",
              "  }\n",
              "\n",
              "  .colab-df-quickchart-complete:disabled,\n",
              "  .colab-df-quickchart-complete:disabled:hover {\n",
              "    background-color: var(--disabled-bg-color);\n",
              "    fill: var(--disabled-fill-color);\n",
              "    box-shadow: none;\n",
              "  }\n",
              "\n",
              "  .colab-df-spinner {\n",
              "    border: 2px solid var(--fill-color);\n",
              "    border-color: transparent;\n",
              "    border-bottom-color: var(--fill-color);\n",
              "    animation:\n",
              "      spin 1s steps(1) infinite;\n",
              "  }\n",
              "\n",
              "  @keyframes spin {\n",
              "    0% {\n",
              "      border-color: transparent;\n",
              "      border-bottom-color: var(--fill-color);\n",
              "      border-left-color: var(--fill-color);\n",
              "    }\n",
              "    20% {\n",
              "      border-color: transparent;\n",
              "      border-left-color: var(--fill-color);\n",
              "      border-top-color: var(--fill-color);\n",
              "    }\n",
              "    30% {\n",
              "      border-color: transparent;\n",
              "      border-left-color: var(--fill-color);\n",
              "      border-top-color: var(--fill-color);\n",
              "      border-right-color: var(--fill-color);\n",
              "    }\n",
              "    40% {\n",
              "      border-color: transparent;\n",
              "      border-right-color: var(--fill-color);\n",
              "      border-top-color: var(--fill-color);\n",
              "    }\n",
              "    60% {\n",
              "      border-color: transparent;\n",
              "      border-right-color: var(--fill-color);\n",
              "    }\n",
              "    80% {\n",
              "      border-color: transparent;\n",
              "      border-right-color: var(--fill-color);\n",
              "      border-bottom-color: var(--fill-color);\n",
              "    }\n",
              "    90% {\n",
              "      border-color: transparent;\n",
              "      border-bottom-color: var(--fill-color);\n",
              "    }\n",
              "  }\n",
              "</style>\n",
              "\n",
              "  <script>\n",
              "    async function quickchart(key) {\n",
              "      const quickchartButtonEl =\n",
              "        document.querySelector('#' + key + ' button');\n",
              "      quickchartButtonEl.disabled = true;  // To prevent multiple clicks.\n",
              "      quickchartButtonEl.classList.add('colab-df-spinner');\n",
              "      try {\n",
              "        const charts = await google.colab.kernel.invokeFunction(\n",
              "            'suggestCharts', [key], {});\n",
              "      } catch (error) {\n",
              "        console.error('Error during call to suggestCharts:', error);\n",
              "      }\n",
              "      quickchartButtonEl.classList.remove('colab-df-spinner');\n",
              "      quickchartButtonEl.classList.add('colab-df-quickchart-complete');\n",
              "    }\n",
              "    (() => {\n",
              "      let quickchartButtonEl =\n",
              "        document.querySelector('#df-9057f091-b95f-4225-877d-b26b92842597 button');\n",
              "      quickchartButtonEl.style.display =\n",
              "        google.colab.kernel.accessAllowed ? 'block' : 'none';\n",
              "    })();\n",
              "  </script>\n",
              "</div>\n",
              "\n",
              "    </div>\n",
              "  </div>\n"
            ],
            "application/vnd.google.colaboratory.intrinsic+json": {
              "type": "dataframe",
              "summary": "{\n  \"name\": \"df\",\n  \"rows\": 5,\n  \"fields\": [\n    {\n      \"column\": \"Unnamed: 0\",\n      \"properties\": {\n        \"dtype\": \"number\",\n        \"std\": 178811,\n        \"min\": 356082,\n        \"max\": 775389,\n        \"num_unique_values\": 5,\n        \"samples\": [\n          775389,\n          356082,\n          371104\n        ],\n        \"semantic_type\": \"\",\n        \"description\": \"\"\n      }\n    },\n    {\n      \"column\": \"ID\",\n      \"properties\": {\n        \"dtype\": \"string\",\n        \"num_unique_values\": 5,\n        \"samples\": [\n          \"32946022\",\n          \"8a660dc84ee0edc53d8efe9d507b652318bdcfb1\",\n          \"6310ce2cb207bfd7be7f1e91368d86d88c883d97\"\n        ],\n        \"semantic_type\": \"\",\n        \"description\": \"\"\n      }\n    },\n    {\n      \"column\": \"Content\",\n      \"properties\": {\n        \"dtype\": \"string\",\n        \"num_unique_values\": 5,\n        \"samples\": [\n          \"Children at Ampertaine Primary School in Upperlands, County Londonderry, adopted the Birmingham side last year, as part of an education project.\\nFacts and figures about the club are used in literacy, maths and PE lessons.\\nHowever, Villa's 4-0 defeat by Arsenal was a lesson that the club and its young fans did not want to take.\\nAston Villa is aware of the school's support and the club's staff gave coaching lessons to Ampertaine pupils last year.\\nVilla players have been photographed posing with letters from the children, and with specially designed kits that were presented to the school as gifts.\\nAmpertaine pupils came into school on Saturday for a special screening of the FA Cup final, but had to watch their heroes being shot down by the Gunners.\\nSpeaking to the BBC, one boy said: \\\"I thought Arsenal were the better team in that game, but I think Aston Villa tried hard.\\\"\\nA girl who had Aston Villa's crest drawn onto her face said: \\\"They played quite well in the first half, but then all the goals were scored in the second half.\\\"\\nAnother boy said: \\\"It was disappointing seeing them lose, coming all the way up to the final and getting everything sorted out for today, but there's still next year.\\\"\\nDespite the school's official links to Aston Villa, there was one young Arsenal fan who found himself outnumbered on Saturday.\\nHe remained loyal to the Gunners and said he was pleased with the result but added: \\\"I'd have loved 10-0.\\\"\\nThe school's decision to support Aston Villa was the result of a draw organised by the headmaster, Garry McIlwaine, last year.\\nThe outcome of the draw seemed appropriate, as Ampertaine's school uniform is claret and blue, the same colours used by Aston Villa.\",\n          \"(CNN)  -- Nazi war crimes suspect John Demjanjuk was granted an emergency stay late Tuesday to block what appeared to be his imminent deportation to Germany. Immigration and Customs Enforcement agents remove John Demjanjuk from his home Tuesday. The ruling, handed down by the 6th U.S. Circuit Court of Appeals, came less than two hours after federal immigration officials took Demjanjuk into custody at his home near Cleveland, Ohio. Demjanjuk, 89, is wanted by German authorities for his alleged involvement during World War II in killings at Sobibor, a Nazi death camp in Poland. The Justice Department would not immediately comment on the stay, saying officials needed to review the order. The last-minute legal maneuvering leading to the order was the latest chapter in one of the longest-running pursuits of an alleged Holocaust perpetrator in history. The deportation of Demjanjuk, who had been transported to an Ohio detention facility when the stay was issued, would set the stage for what would likely prove to be an extraordinary German war crimes trial. \\\"Upon due consideration of the motion for a stay and the opposition by the attorney general, we conclude that a stay of removal is warranted,\\\" the circuit court wrote. Representatives of Attorney General Eric Holder argued in response to an emergency motion filed by Demjanjuk's attorney that the circuit court does not have jurisdiction over the case. But the court acted anyway. \\\"Because it is our understanding that the government may remove the petitioner later today, we are compelled to rule on the motion for a stay prior to addressing the jurisdictional concerns raised by the government,\\\" the court said. On Friday, a federal immigration board rejected an emergency appeal for a stay of Demjanjuk's deportation. His attorney, John Broadley, had argued that deporting him would constitute torture because of his health problems. Broadley has said Demjanjuk suffers from pre-leukemia, kidney problems, spinal problems and \\\"a couple of types of gout.\\\" When Broadley filed another appeal with the 6th Circuit Court, Justice Department officials said they believe that his chances of getting the board's ruling overturned are slim. \\\"Looking at what's going on in Cleveland ... is truly appalling,\\\" Broadley said shortly after Demjanjuk was taken into custody. \\\"You have an 89-year-old man with various physical ailments, and you have eight guys from [Immigration and Customs Enforcement] trying to stuff him into a wheelchair to send him to Germany. This looks like something taking place in Germany and not in the United States.\\\" Rabbi Marvin Hier of the Simon Wiesenthal Center found irony in Broadley's argument for his client. \\\"He wants to plead the sense of fairness that he regularly denied all of the victims at Sobibor,\\\" Hier said. He called Demjanjuk's comparison of his planned deportation to torture \\\"preposterous coming from a person that served the [Nazi organization] S.S. in a death camp. It is a preposterous argument and insulting to the survivors of the Holocaust.\\\" Hier said that 250,000 Jews were killed at the camp and that none of the guards who worked there was blameless. \\\"You were there for one job: kill the Jews,\\\" he said. \\\"And that's what they did full-time.\\\" He called the evidence against Demjanjuk \\\"overwhelming.\\\" German authorities issued an arrest warrant for Demjanjuk on March 10, accusing him of being an accessory to 29,000 counts of murder as a guard at Sobibor from March to September 1943. The warrant was issued after the authorities concluded that an identification card provided by the U.S. Office of Special Investigations was genuine. Demjanjuk, a retired auto worker, has been fighting charges of Nazi war crimes for more than two decades. He was previously extradited from the United States to Israel, where he was convicted in 1986 of being \\\"Ivan the Terrible,\\\" a guard at the notorious Treblinka extermination camp. The conviction was overturned by Israeli courts on appeal, and he returned to the United States. The United States filed new charges against him in 1999, again alleging that he had been a concentration camp guard. He was stripped of U.S. citizenship and has been awaiting deportation since 2005, after fighting his case all the way to the Supreme Court. Demjanjuk, a Ukrainian, says he saw action in the Soviet army and later was a prisoner of war held by the Germans. CNN's Terry Frieden contributed to this report.\",\n          \"By . Meghan Keneally . Every one of the former co-hosts came back to The View this morning as part of the official send off for Barbara Walters. The all-female cast was reunited in a way they'd never been before with every co-host from the show's 17 seasons joined together at an extra large table. Walters and current hosts Jenny McCarthy, Whoopi Golberg and Sherri Shepherd were joined by former hosts Joy Behar, Lisa Ling, Meredith Vieira, Elisabeth Hasselbeck, Debbie Matenopoulos, Star Jones and Rosie O'Donnell. Scroll down for video . Reunion shot: All 11 co-hosts of The View were on hand for Barbara Walter's penultimate episode on Thursday . Long time coming: Barbara Walters announced last year that she would be retiring from broadcasting this spring, and tomorrow will be her final day on the program that she created 17 years ago . 'This is like the Last Supper with Barbara as Jesus,' O'Donnell joked. The reunion, dubbed 'DejaView', comes on Walter's penultimute show with her final send off scheduled for tomorrow. In true View fashion, each of the women took turns going through their favorite memory of working with Barbara. Clips of Walters dressed as Marilyn Monroe for a Halloween episode and the Emmy Award-winning journalist struggling to drive a golf cart punctuated the show with some of the lighter moments. Familiar faces: An extra large table was brought in to accommodate the 11 co-hosts . Some hosts, however, couldn't help but get overcome by the emotion of the moment. Debbie Matenopoulos, who was one of the original cast members and started on the show when she was just 22-years-old in 1997, got choked up while talking about how Walters made her feel confident during the casting call where she was the TV neophyte in a room full of famous women who were auditioning. Matenopoulos was on the show for two years before leaving. She now is married to her second husband and is pregnant, with a due date later this year. Elisabeth Hasselbeck, who was the most recent co-host to leave the show after being offered a spot as a co-anchor on Fox and Friends, praised Walters for helping to teach her the ropes of morning television. Going for it: Meredith Vieira greeted her longtime colleague with a big kiss on the lips, playing off a joke from her time on the air when she pulled the same move . Leading ladies: Walters was a Today Show host years before launching The View and Vieira later left The View to take on The Today Show role . Backstage: The co-hosts were sharing pictures over their Twitter feeds throughout the program . Back in the habit: Star Jones, who was on the show for more than eight years, shared impromptu photos with her former co-hosts Debbie Matenopoulos (left), Rosie O'Donnell and Elisabeth Hasselbeck (right) Old clips of Hasselbeck announcing her pregnancies and introducing her children to the world while working on the show for nearly ten years were played back on Thursday. Of the seven cohosts who returned for the special, Hasselbeck is the only one currently working in front of the camera on a daily basis. Lisa Ling also hosts a documentary series on Oprah Winfrey's network, but Meredith Vieira is due to make a return to television as well. Vieira left The View after nine years and went on to co-anchor The Today Show following Katie Couric's departure in 2006. She later retired from morning broadcasting to spend more time with her family and her husband Richard, who suffers from multiple sclerosis, but is due to launch her own afternoon talk show this fall. 'I think the best thing about The View is that the public got to see the other side of Barbara because everyone knows her as the journalist but you got see how she's so funny and full of spunk,' Vieira said of Walters on Thursday. Through the years: The View was launched in 1997 by Barbara Walters and her co-producer with original hosts (left to right) Star Jones, Joy Behar, Meredith Vieira and Debbie Matenopoulos . Personal lives: Elisabeth Hasselbeck (center) said that her favorite moment on the show was when Walters helped her announce her first pregnancy in 2004 . Hot topics: Political discussions often turned controversial, especially when famously liberal Rosie O'Donnell (left) and Hasselbeck (right), a conservative, were on the show at the same time (pictured n 2006) Much of the talk show, which was launched by Walters in 1997 as a way for women of different generations and viewpoints to connect, was based on the personalities and lives of the hosts themselves, so the reunion special served as a type of update on the co-hosts past. Joy Behar shared a picture of her 3-year-old grandson and Lisa Ling, who left the show in 2003, talked about her newborn daughter. Ling said the best advice she ever received from the pioneering female journalist was to not forget about her personal life, and, like a concerned grandmother, Walters jumped right in by saying: 'I thought you'd never get married!' Taking turns: Hasselbeck and O'Donnell got in an infamous on-air fight in 2007 but have clearly move past it as O'Donnell joked that the thing she missed most about the show was 'fighting with this skinny one' Thankful: Walters, seen reaching over Lisa Ling to hold Hasselbeck's hand, said that she stays in touch with the Fox and Friends co-anchor with regular emails . Original cast: Vieira, Star Jones (center), Debbie Matenopoulous (speaking) and Joy Behar (right) were four of the original five cast members . 'Your best advice that you ever gave me was \\\"don't neglect your personal life,\\\"' Ling said. This was not Rosie O'Donnell's only recent visit to the show, as she came and spoke about her recent heart attack in February to raise awareness for the importance of heart health. During today's visit, the comedian was seated next to Hasselbeck who was her political sparring partner while they were on the show at the same time. Though some of their arguments got infamously heated, they've apparently moved into to stage where they are able to laugh about it all, because When O'Donnell was asked what she missed most about the program, she said: 'Fighting with this skinny one right here!' Friday's show was teased as a 'historic event' and a full line up of surprises is scheduled for Walters' final send off. Twitter postings from other female journalists, including The Today Show's Hoda Kotb, show that a collection of women from across network lines went to The View set on Thursday afternoon for a special segment of the show that will be aired on Friday. The Twitter pictures show journalists past and present, but other reports announced that former Secretary of State Hillary Rodham Clinton is also expected to be a guest on Walters' final show. Preview of things to come: Walters' final episode was taped on Thursday afternoon but will air on Friday, and The Today Show's Hoda Kotb showed a sneak peak of the surprise guests . Not so surprise guests: Female news anchors and talk show hosts came our in droves to honor Walters .\"\n        ],\n        \"semantic_type\": \"\",\n        \"description\": \"\"\n      }\n    },\n    {\n      \"column\": \"Summary\",\n      \"properties\": {\n        \"dtype\": \"string\",\n        \"num_unique_values\": 5,\n        \"samples\": [\n          \"A Northern Ireland school that adopted Aston Villa as its official football team has shared the disappointment of the English club's FA Cup final defeat.\",\n          \"Attorney general's representatives said court has no jurisdiction .\\nImmigration agents picked up John Demjanjuk at home near Cleveland, Ohio .\\nDemjanjuk, 89, has been fighting charges of Nazi war crimes for 20-plus years .\\nGerman authorities accuse Demjanjuk of involvement in killings at Nazi death camp .\",\n          \"All eleven women who have ever hosted on The View came back to celebrate Barbara Walter's penultimate episode .\\nThe 84-year-old journalist launched the show in 1997 .\\nFormer co-hosts Lisa Ling, Debbie Matenopoulos, Meredith Vieira, Rosie O'Donnell and Elisabeth Hasselbeck all shared pictures of their families .\\nStar Jones showed a picture of her pet dog who came with her back stage and Joy Behar updated the audience on her grandson .\\nTomorrow will be Walters' final episode and it was taped Thursday afternoon, featuring Hillary Clinton as a special guest .\"\n        ],\n        \"semantic_type\": \"\",\n        \"description\": \"\"\n      }\n    },\n    {\n      \"column\": \"Dataset\",\n      \"properties\": {\n        \"dtype\": \"category\",\n        \"num_unique_values\": 2,\n        \"samples\": [\n          \"CNN/Daily Mail\",\n          \"XSum\"\n        ],\n        \"semantic_type\": \"\",\n        \"description\": \"\"\n      }\n    }\n  ]\n}"
            }
          },
          "metadata": {},
          "execution_count": 11
        }
      ]
    },
    {
      "cell_type": "code",
      "source": [
        "print(df.shape)"
      ],
      "metadata": {
        "colab": {
          "base_uri": "https://localhost:8080/"
        },
        "id": "AQoTK7HRV_2D",
        "outputId": "66322e33-48a1-4589-a0dc-67b4e06ffb58"
      },
      "execution_count": 11,
      "outputs": [
        {
          "output_type": "stream",
          "name": "stdout",
          "text": [
            "(870521, 5)\n"
          ]
        }
      ]
    },
    {
      "cell_type": "code",
      "source": [
        "print(df.Dataset.unique())"
      ],
      "metadata": {
        "colab": {
          "base_uri": "https://localhost:8080/"
        },
        "id": "6ai7O3WgqU9r",
        "outputId": "1a60df4a-2762-4dac-a01d-25159a7f7bbd"
      },
      "execution_count": 25,
      "outputs": [
        {
          "output_type": "stream",
          "name": "stdout",
          "text": [
            "['CNN/Daily Mail' 'Multi-News' 'XSum']\n"
          ]
        }
      ]
    },
    {
      "cell_type": "code",
      "source": [
        "df.Content[0]"
      ],
      "metadata": {
        "colab": {
          "base_uri": "https://localhost:8080/",
          "height": 140
        },
        "id": "FJP_JjZBJ9RJ",
        "outputId": "2362df86-a7cd-40d5-cbd2-b3b4711adc55"
      },
      "execution_count": 37,
      "outputs": [
        {
          "output_type": "execute_result",
          "data": {
            "text/plain": [
              "\"New York police are concerned drones could become tools for terrorists, and are investigating ways to stop potential attacks. Until now police haven't acknowledged drones as a potential weapon, but the NYPD has now said the technology has advanced enough that someone could use them to carry out an air assault using chemical weapons and firearms. Police want to develop technology which will allow them to take control of drones as well as scan the skies for them before major events. The NYPD says drones carrying explosives are the number one threat as they investigate ways to stop attacks . Deputy Chief Salvatore DiPace, left, was concerned about an incident last year where a drone was landed in front of German Chancellor Angela Merkel and 'could have took the chancellor and her people out' A drone which was flown over a packed football stadium in Manchester, England, just over a week ago, resulting in the suspected pilot being arrested . They are consulting with the military and members of its counterterrorism, bomb squad, emergency services and aviation units are working on a plan to counter weaponized drones. The NYPD hasn't received any intelligence indicating there is an imminent threat, but has become increasingly concerned over the last year. Deputy Chief Salvatore DiPace told CBS News:\\xa0'We've looked at some people that have jury-rigged these drones to carry guns, to carry different types of explosives if they wanted to; there's just so many possibilities that we're very worried about.' Mr Dipace said police had also seen video showing how accurate an attack from a drone could be:\\xa0'We've seen some video where the drone was flying at different targets along the route and very accurately hitting the targets with the paintball. The NYPD now sees a drone carrying explosives as the number one threat. Mr DiPace's concerns follow an incident in Germany last year where a drone was able to land just in front of German Chancellor Angela Merkel as she delivered a speech. The drone, circled, landed in front of Ms Merkel as she delivered a speech sin Germany sparking fears that the device could easily be used to commit a terrorist act . He said:\\xa0'If you really think about what could have happened there, the drone hit its target right on the mark and could have took the chancellor and her people out.' There has been a dramatic increase of incidents involving drones in New York City in the last year, with 40 recorded. In some cases unmanned aircraft systems or drones had flown into airspace being used by NYPD helicopters. In one incident this summer, a drone which was almost 800 feet off the ground, nearly collided with a police helicopter. NYPD Aviation Unit Member, Sergeant Antonio Hernandez said: 'We're flying in the dark; we have night-vision goggles on, we're trying to get a job done and then the next thing you know we see this drone come up to our altitude.'\""
            ],
            "application/vnd.google.colaboratory.intrinsic+json": {
              "type": "string"
            }
          },
          "metadata": {},
          "execution_count": 37
        }
      ]
    },
    {
      "cell_type": "code",
      "source": [
        "df.Summary[0]"
      ],
      "metadata": {
        "colab": {
          "base_uri": "https://localhost:8080/",
          "height": 70
        },
        "id": "cLvS9vAIJu__",
        "outputId": "50bee359-9efa-4d6a-80f9-c1b49f760e45"
      },
      "execution_count": 38,
      "outputs": [
        {
          "output_type": "execute_result",
          "data": {
            "text/plain": [
              "'Police have investigated criminals who have rigged guns to drones .\\nAnd are working with the military to develop technology to stop attacks .\\nIncidents involving drones have drastically increased in New York City .\\nLast year a drone was landed in front of German Chancellor Angela Merkel .'"
            ],
            "application/vnd.google.colaboratory.intrinsic+json": {
              "type": "string"
            }
          },
          "metadata": {},
          "execution_count": 38
        }
      ]
    },
    {
      "cell_type": "markdown",
      "source": [
        "### Pre-Processing"
      ],
      "metadata": {
        "id": "qju57omclZHF"
      }
    },
    {
      "cell_type": "code",
      "source": [
        "df.isna().sum()"
      ],
      "metadata": {
        "colab": {
          "base_uri": "https://localhost:8080/",
          "height": 241
        },
        "id": "h_srn4RetZ-0",
        "outputId": "c5bacfc2-ea6a-4805-93a4-51bf3949d0de"
      },
      "execution_count": 82,
      "outputs": [
        {
          "output_type": "execute_result",
          "data": {
            "text/plain": [
              "Unnamed: 0        0\n",
              "ID            56216\n",
              "Content          34\n",
              "Summary           0\n",
              "Dataset           0\n",
              "dtype: int64"
            ],
            "text/html": [
              "<div>\n",
              "<style scoped>\n",
              "    .dataframe tbody tr th:only-of-type {\n",
              "        vertical-align: middle;\n",
              "    }\n",
              "\n",
              "    .dataframe tbody tr th {\n",
              "        vertical-align: top;\n",
              "    }\n",
              "\n",
              "    .dataframe thead th {\n",
              "        text-align: right;\n",
              "    }\n",
              "</style>\n",
              "<table border=\"1\" class=\"dataframe\">\n",
              "  <thead>\n",
              "    <tr style=\"text-align: right;\">\n",
              "      <th></th>\n",
              "      <th>0</th>\n",
              "    </tr>\n",
              "  </thead>\n",
              "  <tbody>\n",
              "    <tr>\n",
              "      <th>Unnamed: 0</th>\n",
              "      <td>0</td>\n",
              "    </tr>\n",
              "    <tr>\n",
              "      <th>ID</th>\n",
              "      <td>56216</td>\n",
              "    </tr>\n",
              "    <tr>\n",
              "      <th>Content</th>\n",
              "      <td>34</td>\n",
              "    </tr>\n",
              "    <tr>\n",
              "      <th>Summary</th>\n",
              "      <td>0</td>\n",
              "    </tr>\n",
              "    <tr>\n",
              "      <th>Dataset</th>\n",
              "      <td>0</td>\n",
              "    </tr>\n",
              "  </tbody>\n",
              "</table>\n",
              "</div><br><label><b>dtype:</b> int64</label>"
            ]
          },
          "metadata": {},
          "execution_count": 82
        }
      ]
    },
    {
      "cell_type": "code",
      "source": [
        "clean_df = df.drop(columns=[\"Unnamed: 0\", \"ID\", \"Dataset\"])\n",
        "clean_df = clean_df.dropna()\n",
        "print(clean_df.shape)\n",
        "clean_df = clean_df.sample(5000) #clean_df.sample(10000)\n",
        "print(clean_df.shape)"
      ],
      "metadata": {
        "colab": {
          "base_uri": "https://localhost:8080/"
        },
        "id": "9RLs34HKtnem",
        "outputId": "fb7c9d4a-22d0-4966-c8c6-d3e3a5cce027"
      },
      "execution_count": 12,
      "outputs": [
        {
          "output_type": "stream",
          "name": "stdout",
          "text": [
            "(870487, 2)\n",
            "(5000, 2)\n"
          ]
        }
      ]
    },
    {
      "cell_type": "code",
      "source": [
        "# Define input and output columns\n",
        "input_col = \"Content\"\n",
        "output_col = \"Summary\"\n",
        "\n",
        "# Split 90/10\n",
        "train_df, test_df = train_test_split(clean_df, test_size=0.1, random_state=42)"
      ],
      "metadata": {
        "id": "g8JdShzoy6SJ"
      },
      "execution_count": 13,
      "outputs": []
    },
    {
      "cell_type": "code",
      "source": [
        "tokenizer = BartTokenizer.from_pretrained(\"facebook/bart-base\")"
      ],
      "metadata": {
        "colab": {
          "base_uri": "https://localhost:8080/",
          "height": 269,
          "referenced_widgets": [
            "97ad90ec9152432d84234ebca437019b",
            "01e1414415f345b5a1d047ac4b55f22f",
            "bdb93f5ea9dd469098bca939330fb675",
            "a199e1c9b3f44cddb32a5a996ef48918",
            "05e5c861988546a297b7837fa4d269af",
            "21a34c13100e4d1eb3e44e680270d411",
            "d2e7f22920bf46499792a9abf00f8f2a",
            "215cd9f5e2a84b6fafcc1557040d34cf",
            "93f39531b24744dda60b261968723827",
            "8b6950e7d24b44fd8110b558203b8499",
            "c12c36d27304451c81e63e8d8e8c179f",
            "37cc92394ec04aef8633ee1c37c2429d",
            "a5d30fa41ba54e1b8e37c522da9ae9e7",
            "871d49dcfeec4bd18d28a214b4309690",
            "725f104bfbca45b48b7f105d1f2982fb",
            "1cf7a67831af4a9fbf5c38d38db76736",
            "20fe2776d3604790b0be530a87981f55",
            "4a67fe3428ff425da52105b22ab3dfae",
            "88f713dea30e473694c916dad8709b78",
            "0a9da6bb4b5640a0bf44a29970d094e5",
            "a995f0ffc0dd4a85a61f600663310444",
            "343cdd2a9312441d95267ab804c9633b",
            "07e76891d9154d0d9e7659cb864bd358",
            "2f1f1fb9ee044a609b8a7bbccbf94e9b",
            "30bf5a20f3554f2681b0f64b2563b9d4",
            "366237106f074cb28524b320051e7d0c",
            "de6818c8632b4eb5b2ee0a8c6e609af6",
            "613ad541e48b4e31b11ce49d6449eb01",
            "0f752fd8e5824d50992f355f01de6a8f",
            "cffc3fdf6bde40199b634b2e3d53f203",
            "5b1be899a1ac44209fafb0ed3f16b4e8",
            "76738240cc7a40199a37add7bb6839d7",
            "2333f01c63cd4c1ca0a7e22d7fe400b9",
            "7958b0ec523b409997c08f3e14926176",
            "7d5359f2ff564f58a7dcdff17251ca7d",
            "ca5d470f72e04b16aa2ad3eff6021a6e",
            "eb72730b848147f5a067f06bb4126290",
            "eaaf2734631f449d9225a82bc452780f",
            "244376c488604f288f1b8fa0c568d36b",
            "4cc7f51090cf4db2a9dd57083365593c",
            "2ce04ca6d418477a942b46429ee9b9f7",
            "d8816c2fa7294d86abada670fdc4daad",
            "34856fce86254e05b0e023a81ae64c60",
            "6c781ae9b311479f87b13769c0ca8a67"
          ]
        },
        "id": "QcpW9XvKlbfG",
        "outputId": "36e2216c-5500-4361-cd40-40a8cd5d0e3f"
      },
      "execution_count": 14,
      "outputs": [
        {
          "output_type": "stream",
          "name": "stderr",
          "text": [
            "/usr/local/lib/python3.11/dist-packages/huggingface_hub/utils/_auth.py:94: UserWarning: \n",
            "The secret `HF_TOKEN` does not exist in your Colab secrets.\n",
            "To authenticate with the Hugging Face Hub, create a token in your settings tab (https://huggingface.co/settings/tokens), set it as secret in your Google Colab and restart your session.\n",
            "You will be able to reuse this secret in all of your notebooks.\n",
            "Please note that authentication is recommended but still optional to access public models or datasets.\n",
            "  warnings.warn(\n"
          ]
        },
        {
          "output_type": "display_data",
          "data": {
            "text/plain": [
              "vocab.json:   0%|          | 0.00/899k [00:00<?, ?B/s]"
            ],
            "application/vnd.jupyter.widget-view+json": {
              "version_major": 2,
              "version_minor": 0,
              "model_id": "97ad90ec9152432d84234ebca437019b"
            }
          },
          "metadata": {}
        },
        {
          "output_type": "display_data",
          "data": {
            "text/plain": [
              "merges.txt:   0%|          | 0.00/456k [00:00<?, ?B/s]"
            ],
            "application/vnd.jupyter.widget-view+json": {
              "version_major": 2,
              "version_minor": 0,
              "model_id": "37cc92394ec04aef8633ee1c37c2429d"
            }
          },
          "metadata": {}
        },
        {
          "output_type": "display_data",
          "data": {
            "text/plain": [
              "tokenizer.json:   0%|          | 0.00/1.36M [00:00<?, ?B/s]"
            ],
            "application/vnd.jupyter.widget-view+json": {
              "version_major": 2,
              "version_minor": 0,
              "model_id": "07e76891d9154d0d9e7659cb864bd358"
            }
          },
          "metadata": {}
        },
        {
          "output_type": "display_data",
          "data": {
            "text/plain": [
              "config.json:   0%|          | 0.00/1.72k [00:00<?, ?B/s]"
            ],
            "application/vnd.jupyter.widget-view+json": {
              "version_major": 2,
              "version_minor": 0,
              "model_id": "7958b0ec523b409997c08f3e14926176"
            }
          },
          "metadata": {}
        }
      ]
    },
    {
      "cell_type": "code",
      "source": [
        "def tokenize_function(examples):\n",
        "    return tokenizer(\n",
        "        examples[input_col].to_list(),\n",
        "        padding=\"max_length\",\n",
        "        truncation=True,\n",
        "        max_length=256,\n",
        "        return_tensors=\"pt\"\n",
        "    ), tokenizer(\n",
        "        examples[output_col].to_list(),\n",
        "        padding=\"max_length\",\n",
        "        truncation=True,\n",
        "        max_length=64,\n",
        "        return_tensors=\"pt\"\n",
        "    )\n",
        "\n",
        "train_encodings, train_labels = tokenize_function(train_df)\n",
        "test_encodings, test_labels = tokenize_function(test_df)\n",
        "\n",
        "class SummarizationDataset(torch.utils.data.Dataset):\n",
        "    def __init__(self, encodings, labels):\n",
        "        self.encodings = encodings\n",
        "        self.labels = labels\n",
        "\n",
        "    def __len__(self):\n",
        "        return len(self.encodings[\"input_ids\"])\n",
        "\n",
        "    def __getitem__(self, idx):\n",
        "        item = {key: torch.tensor(val[idx]) for key, val in self.encodings.items()}\n",
        "        item[\"labels\"] = torch.tensor(self.labels[\"input_ids\"][idx])\n",
        "        return item\n",
        "\n",
        "train_dataset = SummarizationDataset(train_encodings, train_labels)\n",
        "test_dataset = SummarizationDataset(test_encodings, test_labels)\n"
      ],
      "metadata": {
        "id": "LFSYPiH4r4mx"
      },
      "execution_count": 15,
      "outputs": []
    },
    {
      "cell_type": "markdown",
      "source": [
        "### Model"
      ],
      "metadata": {
        "id": "WlSpdMzgTLx7"
      }
    },
    {
      "cell_type": "code",
      "source": [
        "model = BartForConditionalGeneration.from_pretrained(\"facebook/bart-large\", forced_bos_token_id=0)"
      ],
      "metadata": {
        "colab": {
          "base_uri": "https://localhost:8080/",
          "height": 113,
          "referenced_widgets": [
            "5076c9f503ec4acd8de32cf9cbaf9e17",
            "96f91d06699443a9bcf7d6eed4203685",
            "cf03f012a4f04619b88884d565afff49",
            "67adb109f0534a059cdd018e24fa3621",
            "fff047396680453182af9f60b501f074",
            "19c81f76c11b4e1a84477118dc1d05a0",
            "0a3bd576f7da42c9aa866feacc7cfd83",
            "f31eda9a9fbe4f54b3d294e59913a28d",
            "acab76000c914fe08bd306a5afc28e2d",
            "3015068e07584c1a86a246f62a35a923",
            "70fbe5a565894b9f8e8da352245f2962",
            "1898089ab04b4e55be8ca8d8709629d8",
            "b49558d48d3740b7840a6c9b5bf40c95",
            "2b6d5dbf764f4ecfb062f9fd6528ac7a",
            "69458a405039454a82f602e79a874518",
            "92aff3302a9242e7b7c518b810927cf1",
            "d06d7e638a4e4c3a84113435e37d0bf9",
            "b2c36a99fa054cb6add70406a6508b18",
            "2e82d908d46b4b2fa2d35bb28ae723c5",
            "be6ed781ce59409985e5789d1dbc605e",
            "8fdbdead98e54136a2261cc2a679451f",
            "72014ae79333449fa4d88349533e87a9",
            "966c6c5b03824b68852a2eb0d7b348d2",
            "fa5e5dff68ca4ea8bbbc89b2959cd8b1",
            "1d3f1d7d77c84b41bd4e508ca4accab2",
            "d7d0f54f466841e4ada7a074cd1c457a",
            "da758252618148f080d10098afcd4feb",
            "a4055585243646bf9f1c405023537baf",
            "229a78b7fa554afc9441504d8fefecb5",
            "72ac88e85d0b4d398b395341ae87c1c0",
            "84dbda1a1d8a4f6c9ba62830ded6a966",
            "e6c36faed1974f5db2999c4ef7e21cc5",
            "bf34f7f2ac4b4c44969146e59e5966bb"
          ]
        },
        "id": "PtRhW_iSMVZk",
        "outputId": "74e94f28-11a3-40fe-e96b-0c74fabf5afe"
      },
      "execution_count": 16,
      "outputs": [
        {
          "output_type": "display_data",
          "data": {
            "text/plain": [
              "config.json:   0%|          | 0.00/1.63k [00:00<?, ?B/s]"
            ],
            "application/vnd.jupyter.widget-view+json": {
              "version_major": 2,
              "version_minor": 0,
              "model_id": "5076c9f503ec4acd8de32cf9cbaf9e17"
            }
          },
          "metadata": {}
        },
        {
          "output_type": "display_data",
          "data": {
            "text/plain": [
              "pytorch_model.bin:   0%|          | 0.00/1.02G [00:00<?, ?B/s]"
            ],
            "application/vnd.jupyter.widget-view+json": {
              "version_major": 2,
              "version_minor": 0,
              "model_id": "1898089ab04b4e55be8ca8d8709629d8"
            }
          },
          "metadata": {}
        },
        {
          "output_type": "display_data",
          "data": {
            "text/plain": [
              "model.safetensors:   0%|          | 0.00/1.02G [00:00<?, ?B/s]"
            ],
            "application/vnd.jupyter.widget-view+json": {
              "version_major": 2,
              "version_minor": 0,
              "model_id": "966c6c5b03824b68852a2eb0d7b348d2"
            }
          },
          "metadata": {}
        }
      ]
    },
    {
      "cell_type": "code",
      "source": [
        "model.config"
      ],
      "metadata": {
        "colab": {
          "base_uri": "https://localhost:8080/"
        },
        "id": "tCLLVjtztIk2",
        "outputId": "b16ab3ee-4913-4308-b510-2211a643ebf0"
      },
      "execution_count": 17,
      "outputs": [
        {
          "output_type": "execute_result",
          "data": {
            "text/plain": [
              "BartConfig {\n",
              "  \"_attn_implementation_autoset\": true,\n",
              "  \"activation_dropout\": 0.1,\n",
              "  \"activation_function\": \"gelu\",\n",
              "  \"add_bias_logits\": false,\n",
              "  \"add_final_layer_norm\": false,\n",
              "  \"architectures\": [\n",
              "    \"BartModel\"\n",
              "  ],\n",
              "  \"attention_dropout\": 0.1,\n",
              "  \"bos_token_id\": 0,\n",
              "  \"classif_dropout\": 0.1,\n",
              "  \"classifier_dropout\": 0.0,\n",
              "  \"d_model\": 1024,\n",
              "  \"decoder_attention_heads\": 16,\n",
              "  \"decoder_ffn_dim\": 4096,\n",
              "  \"decoder_layerdrop\": 0.0,\n",
              "  \"decoder_layers\": 12,\n",
              "  \"decoder_start_token_id\": 2,\n",
              "  \"dropout\": 0.1,\n",
              "  \"early_stopping\": true,\n",
              "  \"encoder_attention_heads\": 16,\n",
              "  \"encoder_ffn_dim\": 4096,\n",
              "  \"encoder_layerdrop\": 0.0,\n",
              "  \"encoder_layers\": 12,\n",
              "  \"eos_token_id\": 2,\n",
              "  \"forced_bos_token_id\": 0,\n",
              "  \"forced_eos_token_id\": 2,\n",
              "  \"gradient_checkpointing\": false,\n",
              "  \"id2label\": {\n",
              "    \"0\": \"LABEL_0\",\n",
              "    \"1\": \"LABEL_1\",\n",
              "    \"2\": \"LABEL_2\"\n",
              "  },\n",
              "  \"init_std\": 0.02,\n",
              "  \"is_encoder_decoder\": true,\n",
              "  \"label2id\": {\n",
              "    \"LABEL_0\": 0,\n",
              "    \"LABEL_1\": 1,\n",
              "    \"LABEL_2\": 2\n",
              "  },\n",
              "  \"max_position_embeddings\": 1024,\n",
              "  \"model_type\": \"bart\",\n",
              "  \"no_repeat_ngram_size\": 3,\n",
              "  \"normalize_before\": false,\n",
              "  \"num_beams\": 4,\n",
              "  \"num_hidden_layers\": 12,\n",
              "  \"pad_token_id\": 1,\n",
              "  \"scale_embedding\": false,\n",
              "  \"task_specific_params\": {\n",
              "    \"summarization\": {\n",
              "      \"length_penalty\": 1.0,\n",
              "      \"max_length\": 128,\n",
              "      \"min_length\": 12,\n",
              "      \"num_beams\": 4\n",
              "    },\n",
              "    \"summarization_cnn\": {\n",
              "      \"length_penalty\": 2.0,\n",
              "      \"max_length\": 142,\n",
              "      \"min_length\": 56,\n",
              "      \"num_beams\": 4\n",
              "    },\n",
              "    \"summarization_xsum\": {\n",
              "      \"length_penalty\": 1.0,\n",
              "      \"max_length\": 62,\n",
              "      \"min_length\": 11,\n",
              "      \"num_beams\": 6\n",
              "    }\n",
              "  },\n",
              "  \"torch_dtype\": \"float32\",\n",
              "  \"transformers_version\": \"4.50.2\",\n",
              "  \"use_cache\": true,\n",
              "  \"vocab_size\": 50265\n",
              "}"
            ]
          },
          "metadata": {},
          "execution_count": 17
        }
      ]
    },
    {
      "cell_type": "code",
      "source": [
        "from transformers import AutoTokenizer, AutoModelForSeq2SeqLM, Trainer, TrainingArguments, DataCollatorForSeq2Seq"
      ],
      "metadata": {
        "id": "wGHrh8Al6_5S"
      },
      "execution_count": 18,
      "outputs": []
    },
    {
      "cell_type": "code",
      "source": [
        "training_args = TrainingArguments(\n",
        "    output_dir=\"./bart_summarization\",\n",
        "    fp16=True,\n",
        "    learning_rate=5e-5,\n",
        "    per_device_train_batch_size=8,\n",
        "    per_device_eval_batch_size=8,\n",
        "    num_train_epochs=3,\n",
        "    weight_decay=0.01,\n",
        "    report_to=\"none\",\n",
        "    save_total_limit=2,\n",
        "    metric_for_best_model=\"eval_loss\",\n",
        ")\n",
        "data_collator = DataCollatorForSeq2Seq(tokenizer, model=model)\n",
        "\n",
        "trainer = Trainer(\n",
        "    model=model,\n",
        "    args=training_args,\n",
        "    data_collator=data_collator,\n",
        "    train_dataset=train_dataset,\n",
        "    eval_dataset=test_dataset,\n",
        "    tokenizer=tokenizer\n",
        ")"
      ],
      "metadata": {
        "colab": {
          "base_uri": "https://localhost:8080/"
        },
        "id": "6irpl3RC6plr",
        "outputId": "63e3992e-1bec-41b3-8cb9-a10f2240cd04"
      },
      "execution_count": 21,
      "outputs": [
        {
          "output_type": "stream",
          "name": "stderr",
          "text": [
            "<ipython-input-21-d83cf100c441>:15: FutureWarning: `tokenizer` is deprecated and will be removed in version 5.0.0 for `Trainer.__init__`. Use `processing_class` instead.\n",
            "  trainer = Trainer(\n"
          ]
        }
      ]
    },
    {
      "cell_type": "code",
      "source": [
        "trainer.train()"
      ],
      "metadata": {
        "colab": {
          "base_uri": "https://localhost:8080/",
          "height": 370
        },
        "id": "F7UBwdwCKYn0",
        "outputId": "28f62c93-31a4-4986-ffbb-d591824b813f"
      },
      "execution_count": 20,
      "outputs": [
        {
          "output_type": "stream",
          "name": "stderr",
          "text": [
            "<ipython-input-15-ece610901751>:42: UserWarning: To copy construct from a tensor, it is recommended to use sourceTensor.clone().detach() or sourceTensor.clone().detach().requires_grad_(True), rather than torch.tensor(sourceTensor).\n",
            "  item = {key: torch.tensor(val[idx]) for key, val in self.encodings.items()}\n",
            "<ipython-input-15-ece610901751>:43: UserWarning: To copy construct from a tensor, it is recommended to use sourceTensor.clone().detach() or sourceTensor.clone().detach().requires_grad_(True), rather than torch.tensor(sourceTensor).\n",
            "  item[\"labels\"] = torch.tensor(self.labels[\"input_ids\"][idx])\n",
            "/usr/local/lib/python3.11/dist-packages/transformers/data/data_collator.py:741: UserWarning: Creating a tensor from a list of numpy.ndarrays is extremely slow. Please consider converting the list to a single numpy.ndarray with numpy.array() before converting to a tensor. (Triggered internally at /pytorch/torch/csrc/utils/tensor_new.cpp:254.)\n",
            "  batch[\"labels\"] = torch.tensor(batch[\"labels\"], dtype=torch.int64)\n"
          ]
        },
        {
          "output_type": "display_data",
          "data": {
            "text/plain": [
              "<IPython.core.display.HTML object>"
            ],
            "text/html": [
              "\n",
              "    <div>\n",
              "      \n",
              "      <progress value='563' max='563' style='width:300px; height:20px; vertical-align: middle;'></progress>\n",
              "      [563/563 12:23, Epoch 1/1]\n",
              "    </div>\n",
              "    <table border=\"1\" class=\"dataframe\">\n",
              "  <thead>\n",
              " <tr style=\"text-align: left;\">\n",
              "      <th>Step</th>\n",
              "      <th>Training Loss</th>\n",
              "    </tr>\n",
              "  </thead>\n",
              "  <tbody>\n",
              "    <tr>\n",
              "      <td>500</td>\n",
              "      <td>2.172600</td>\n",
              "    </tr>\n",
              "  </tbody>\n",
              "</table><p>"
            ]
          },
          "metadata": {}
        },
        {
          "output_type": "stream",
          "name": "stderr",
          "text": [
            "/usr/local/lib/python3.11/dist-packages/transformers/modeling_utils.py:3353: UserWarning: Moving the following attributes in the config to the generation config: {'early_stopping': True, 'num_beams': 4, 'no_repeat_ngram_size': 3, 'forced_bos_token_id': 0}. You are seeing this warning because you've set generation parameters in the model config, as opposed to in the generation config.\n",
            "  warnings.warn(\n",
            "<ipython-input-15-ece610901751>:42: UserWarning: To copy construct from a tensor, it is recommended to use sourceTensor.clone().detach() or sourceTensor.clone().detach().requires_grad_(True), rather than torch.tensor(sourceTensor).\n",
            "  item = {key: torch.tensor(val[idx]) for key, val in self.encodings.items()}\n",
            "<ipython-input-15-ece610901751>:43: UserWarning: To copy construct from a tensor, it is recommended to use sourceTensor.clone().detach() or sourceTensor.clone().detach().requires_grad_(True), rather than torch.tensor(sourceTensor).\n",
            "  item[\"labels\"] = torch.tensor(self.labels[\"input_ids\"][idx])\n"
          ]
        },
        {
          "output_type": "execute_result",
          "data": {
            "text/plain": [
              "TrainOutput(global_step=563, training_loss=2.1186185060978784, metrics={'train_runtime': 750.5002, 'train_samples_per_second': 5.996, 'train_steps_per_second': 0.75, 'total_flos': 2437992677376000.0, 'train_loss': 2.1186185060978784, 'epoch': 1.0})"
            ]
          },
          "metadata": {},
          "execution_count": 20
        }
      ]
    },
    {
      "cell_type": "code",
      "source": [
        "trainer.evaluate()"
      ],
      "metadata": {
        "colab": {
          "base_uri": "https://localhost:8080/",
          "height": 213
        },
        "id": "wyuhypXxBfhu",
        "outputId": "1c15c7be-973e-4210-9339-6f5955f6cc68"
      },
      "execution_count": 14,
      "outputs": [
        {
          "output_type": "stream",
          "name": "stderr",
          "text": [
            "<ipython-input-7-ece610901751>:42: UserWarning: To copy construct from a tensor, it is recommended to use sourceTensor.clone().detach() or sourceTensor.clone().detach().requires_grad_(True), rather than torch.tensor(sourceTensor).\n",
            "  item = {key: torch.tensor(val[idx]) for key, val in self.encodings.items()}\n",
            "<ipython-input-7-ece610901751>:43: UserWarning: To copy construct from a tensor, it is recommended to use sourceTensor.clone().detach() or sourceTensor.clone().detach().requires_grad_(True), rather than torch.tensor(sourceTensor).\n",
            "  item[\"labels\"] = torch.tensor(self.labels[\"input_ids\"][idx])\n"
          ]
        },
        {
          "output_type": "display_data",
          "data": {
            "text/plain": [
              "<IPython.core.display.HTML object>"
            ],
            "text/html": [
              "\n",
              "    <div>\n",
              "      \n",
              "      <progress value='63' max='63' style='width:300px; height:20px; vertical-align: middle;'></progress>\n",
              "      [63/63 00:06]\n",
              "    </div>\n",
              "    "
            ]
          },
          "metadata": {}
        },
        {
          "output_type": "execute_result",
          "data": {
            "text/plain": [
              "{'eval_loss': 1.5837899446487427,\n",
              " 'eval_runtime': 6.2547,\n",
              " 'eval_samples_per_second': 79.94,\n",
              " 'eval_steps_per_second': 10.072,\n",
              " 'epoch': 1.0}"
            ]
          },
          "metadata": {},
          "execution_count": 14
        }
      ]
    },
    {
      "cell_type": "markdown",
      "source": [
        "### Generation Example"
      ],
      "metadata": {
        "id": "MiyRnWTCDRmX"
      }
    },
    {
      "cell_type": "code",
      "source": [
        "# og text\n",
        "sample_text = test_df.iloc[0][\"Content\"]\n",
        "sample_text"
      ],
      "metadata": {
        "colab": {
          "base_uri": "https://localhost:8080/",
          "height": 140
        },
        "id": "v3YD1rWRDZaT",
        "outputId": "42a72595-75e4-47c0-ce77-aafb6d08f626"
      },
      "execution_count": 39,
      "outputs": [
        {
          "output_type": "execute_result",
          "data": {
            "text/plain": [
              "'The money will cover a visit for at least two Year 10 pupils and a teacher from each post-primary school in Northern Ireland.\\nThe Department of Education and Department for Communities are jointly funding \"the battlefields project.\"\\nEducation Minister Peter Weir said the scheme would help young people learn more about \"the realities of war.\"\\nThe project is now open for schools to express an interest in, with the first trips to take place in June 2017.\\nMr Weir said that he hoped schools from all sectors would apply to take part.\\n\"This scheme will be open to children from all backgrounds and is a unique opportunity to learn about our past,\" he said.\\n\"Millions of people lost their lives during the First World War and that must never be forgotten.\"\\n\"That is why I believe it is so important that our young people should be encouraged to remember those who died.\"\\nPupils will visit battlefields in Belgium and France like the Somme, where thousands of soldiers from Ireland died.\\nThe battle of the Somme lasted from July to November 1916 and cost more than a million casualties on all sides.\\nCommunities Minister Paul Givan said that the scheme would give pupils a better understanding of the sacrifice that so many men made.\\n\"They will be able to visit places of significance to our community memory including cemeteries, memorials, battle remains and museums.\\n\"It also gives young people in Northern Ireland the same opportunity as schools in England who are already receiving financial support to visit the battlefields.\"\\nThe scheme will be administered by the Education Authority, who have written to all schools inviting them to express an interest in taking part.'"
            ],
            "application/vnd.google.colaboratory.intrinsic+json": {
              "type": "string"
            }
          },
          "metadata": {},
          "execution_count": 39
        }
      ]
    },
    {
      "cell_type": "code",
      "source": [
        "device = torch.device(\"cuda\" if torch.cuda.is_available() else \"cpu\")\n",
        "model.to(device)\n",
        "\n",
        "input_ids = tokenizer(\n",
        "    sample_text,\n",
        "    return_tensors=\"pt\",\n",
        "    max_length=512,\n",
        "    truncation=True\n",
        ").input_ids.to(model.device)\n",
        "\n",
        "summary_ids = model.generate(\n",
        "    input_ids,\n",
        "    max_length=64,\n",
        "    num_beams=4,\n",
        "    length_penalty=2.0,\n",
        "    early_stopping=True\n",
        ")\n",
        "\n",
        "generated_summary = tokenizer.decode(summary_ids[0], skip_special_tokens=True)\n",
        "\n",
        "print(generated_summary)\n"
      ],
      "metadata": {
        "colab": {
          "base_uri": "https://localhost:8080/"
        },
        "id": "wQiVkRFjC0g5",
        "outputId": "7422778f-581a-4262-ed24-fa4fd654feac"
      },
      "execution_count": 40,
      "outputs": [
        {
          "output_type": "stream",
          "name": "stdout",
          "text": [
            "A scheme to help young people visit battlefields in Northern Ireland is to be funded by the Department of Education and Communities.\n"
          ]
        }
      ]
    },
    {
      "cell_type": "code",
      "source": [
        "model2 = BartForConditionalGeneration.from_pretrained(\"facebook/bart-large\", forced_bos_token_id=0)"
      ],
      "metadata": {
        "id": "YNxVl5RYD30k"
      },
      "execution_count": 50,
      "outputs": []
    },
    {
      "cell_type": "code",
      "source": [
        "device = torch.device(\"cuda\" if torch.cuda.is_available() else \"cpu\")\n",
        "model2.to(device)\n",
        "\n",
        "input_ids = tokenizer(\n",
        "    sample_text,\n",
        "    return_tensors=\"pt\",\n",
        "    max_length=512,\n",
        "    truncation=True\n",
        ").input_ids.to(model2.device)\n",
        "\n",
        "summary_ids = model2.generate(\n",
        "    input_ids,\n",
        "    max_length=64,\n",
        "    num_beams=4,\n",
        "    length_penalty=2.0,\n",
        "    early_stopping=True\n",
        ")\n",
        "\n",
        "generated_summary = tokenizer.decode(summary_ids[0], skip_special_tokens=True)\n",
        "\n",
        "print(generated_summary)\n"
      ],
      "metadata": {
        "colab": {
          "base_uri": "https://localhost:8080/"
        },
        "id": "J3MaFtMSEL8O",
        "outputId": "1cc15b84-ff25-4e6f-f0b1-d4427f3cb7ba"
      },
      "execution_count": 33,
      "outputs": [
        {
          "output_type": "stream",
          "name": "stdout",
          "text": [
            "New York police are concerned drones could become tools for terrorists, and are investigating ways to stop potential attacks. Until now police haven't acknowledged drones as a potential weapon, but the NYPD has now said the technology has advanced enough that someone could use them to carry out an air assault using chemical weapons and firearms.\n"
          ]
        }
      ]
    },
    {
      "cell_type": "markdown",
      "source": [
        "### BLEU and ROUGE Scores"
      ],
      "metadata": {
        "id": "99MSZIc3Dt4Q"
      }
    },
    {
      "cell_type": "code",
      "source": [
        "!pip install nltk"
      ],
      "metadata": {
        "colab": {
          "base_uri": "https://localhost:8080/"
        },
        "id": "r5vYTrDSEYrO",
        "outputId": "8b28f45f-bc6c-40d1-fdb3-a2f083cdd3f1"
      },
      "execution_count": 22,
      "outputs": [
        {
          "output_type": "stream",
          "name": "stdout",
          "text": [
            "Requirement already satisfied: nltk in /usr/local/lib/python3.11/dist-packages (3.9.1)\n",
            "Requirement already satisfied: click in /usr/local/lib/python3.11/dist-packages (from nltk) (8.1.8)\n",
            "Requirement already satisfied: joblib in /usr/local/lib/python3.11/dist-packages (from nltk) (1.4.2)\n",
            "Requirement already satisfied: regex>=2021.8.3 in /usr/local/lib/python3.11/dist-packages (from nltk) (2024.11.6)\n",
            "Requirement already satisfied: tqdm in /usr/local/lib/python3.11/dist-packages (from nltk) (4.67.1)\n"
          ]
        }
      ]
    },
    {
      "cell_type": "code",
      "source": [
        "! pip install -r rouge/requirements.txt\n",
        "! pip install rouge-score"
      ],
      "metadata": {
        "colab": {
          "base_uri": "https://localhost:8080/"
        },
        "id": "Ip1J-4LUG4dG",
        "outputId": "9452a847-b331-4a25-c08e-319e4c5e4d65"
      },
      "execution_count": 23,
      "outputs": [
        {
          "output_type": "stream",
          "name": "stdout",
          "text": [
            "\u001b[31mERROR: Could not open requirements file: [Errno 2] No such file or directory: 'rouge/requirements.txt'\u001b[0m\u001b[31m\n",
            "\u001b[0mRequirement already satisfied: rouge-score in /usr/local/lib/python3.11/dist-packages (0.1.2)\n",
            "Requirement already satisfied: absl-py in /usr/local/lib/python3.11/dist-packages (from rouge-score) (1.4.0)\n",
            "Requirement already satisfied: nltk in /usr/local/lib/python3.11/dist-packages (from rouge-score) (3.9.1)\n",
            "Requirement already satisfied: numpy in /usr/local/lib/python3.11/dist-packages (from rouge-score) (2.0.2)\n",
            "Requirement already satisfied: six>=1.14.0 in /usr/local/lib/python3.11/dist-packages (from rouge-score) (1.17.0)\n",
            "Requirement already satisfied: click in /usr/local/lib/python3.11/dist-packages (from nltk->rouge-score) (8.1.8)\n",
            "Requirement already satisfied: joblib in /usr/local/lib/python3.11/dist-packages (from nltk->rouge-score) (1.4.2)\n",
            "Requirement already satisfied: regex>=2021.8.3 in /usr/local/lib/python3.11/dist-packages (from nltk->rouge-score) (2024.11.6)\n",
            "Requirement already satisfied: tqdm in /usr/local/lib/python3.11/dist-packages (from nltk->rouge-score) (4.67.1)\n"
          ]
        }
      ]
    },
    {
      "cell_type": "code",
      "source": [
        "import nltk\n",
        "from nltk.translate.bleu_score import sentence_bleu, corpus_bleu, SmoothingFunction\n",
        "from rouge_score import rouge_scorer"
      ],
      "metadata": {
        "id": "3KLxJStcEbtD"
      },
      "execution_count": 24,
      "outputs": []
    },
    {
      "cell_type": "code",
      "source": [
        "model2 = BartForConditionalGeneration.from_pretrained(\"facebook/bart-large\", forced_bos_token_id=0)"
      ],
      "metadata": {
        "id": "Y7QFv-zJOczA"
      },
      "execution_count": 26,
      "outputs": []
    },
    {
      "cell_type": "code",
      "source": [
        "device = torch.device(\"cuda\" if torch.cuda.is_available() else \"cpu\")\n",
        "model.to(device)\n",
        "scorer = rouge_scorer.RougeScorer(['rouge1', 'rougeL'], use_stemmer=True)\n",
        "\n",
        "def average_bleu_rouge(curr_model):\n",
        "  bleu_scores = []\n",
        "  rouge_scores = []\n",
        "\n",
        "  for i in range(10):\n",
        "    sample_text = test_df.iloc[i][\"Content\"]\n",
        "\n",
        "    input_ids = tokenizer(\n",
        "        sample_text,\n",
        "        return_tensors=\"pt\",\n",
        "        max_length=256,\n",
        "        truncation=True\n",
        "    ).input_ids.to(curr_model.device)\n",
        "\n",
        "    summary_ids = curr_model.generate(\n",
        "        input_ids,\n",
        "        max_length=64,\n",
        "        num_beams=4,\n",
        "        length_penalty=2.0,\n",
        "        early_stopping=True\n",
        "    )\n",
        "\n",
        "    summary = tokenizer.decode(summary_ids[0], skip_special_tokens=True)\n",
        "    bleu_score = sentence_bleu([test_df.iloc[0][\"Summary\"]], summary, smoothing_function=SmoothingFunction().method1)\n",
        "    bleu_scores.append(bleu_score)\n",
        "    rouge_score = scorer.score(test_df.iloc[0][\"Summary\"], summary)\n",
        "    rouge_scores.append(rouge_score)\n",
        "\n",
        "  bleu_avg = sum(bleu_scores) / len(bleu_scores)\n",
        "\n",
        "  rouge1_precision, rouge1_recall, rouge1_f1 = 0, 0, 0\n",
        "  for scores in rouge_scores:\n",
        "    rouge1_precision += scores['rouge1'].precision\n",
        "    rouge1_recall += scores['rouge1'].recall\n",
        "    rouge1_f1 += scores['rouge1'].fmeasure\n",
        "  rouge_avg = {\n",
        "    \"precision\": rouge1_precision / len(rouge_scores),\n",
        "    \"recall\": rouge1_recall / len(rouge_scores),\n",
        "    \"f1\": rouge1_f1 / len(rouge_scores)\n",
        "  }\n",
        "\n",
        "  return bleu_avg, rouge_avg\n",
        "\n",
        "print(\"Original Pre-trained BART\")\n",
        "scores = average_bleu_rouge(model2)\n",
        "print(\"BLEU: \", scores[0])\n",
        "print(\"ROUGE: \", scores[1])\n",
        "print(\"Fine-Tuned BART\")\n",
        "scores2 = average_bleu_rouge(model)\n",
        "print(\"BLEU: \", scores2[0])\n",
        "print(\"ROUGE: \", scores2[1])"
      ],
      "metadata": {
        "colab": {
          "base_uri": "https://localhost:8080/"
        },
        "id": "mfH_A4x2J-qU",
        "outputId": "67ac44dc-0867-4ced-e5da-087be7238873"
      },
      "execution_count": 30,
      "outputs": [
        {
          "output_type": "stream",
          "name": "stdout",
          "text": [
            "Original Pre-trained BART\n",
            "BLEU:  0.15534461883789588\n",
            "ROUGE:  {'precision': 0.09543449251401345, 'recall': 0.17777777777777773, 'f1': 0.12403068505389181}\n",
            "Fine-Tuned BART\n",
            "BLEU:  0.17034403623456626\n",
            "ROUGE:  {'precision': 0.1628379594985762, 'recall': 0.16296296296296295, 'f1': 0.15564439359924095}\n"
          ]
        }
      ]
    },
    {
      "cell_type": "markdown",
      "source": [
        "The results are given by a qualatative comparison between the original generic BART model and the fine-tuned version, as well as calcualated Bilingual Evaluation Understudy (BLEU) and Recall-Oriented Understudy for Gisting Evaluation (ROUGE) scores. Some of the hyperparameters used were train and test batch sizes, which gave me better results at a slightly larger number of 8 as compared to smaller batches like 2 which ran faster, but gave less accuracy. Another hyperparameter was fp16 which uses mized-precision training to get the benefeits of both faster and more accurate calculations.\n",
        "\n",
        "The fine-tuning improved the text summarization ability of this LLM on this specific news dataset. You can see in the qualatative comparison that the summary is much more consise, while original BART is very wordy. I calculated the average of the BLEU and ROUGE scores across 10 examples. While the original pre-trained BART model has a BLEU score of $0.1553$, the fine-tuned version had a BLEU score of $0.1703$. The ROUGE scores were much higher for precision, slightly higher F1, and actually slightly lower recall."
      ],
      "metadata": {
        "id": "y9zpOW-cjJ_b"
      }
    },
    {
      "cell_type": "markdown",
      "source": [
        "# Part 2: Reinforcement Learning\n",
        "\n",
        "## Task 2\n",
        "The Netflix homepage is a real-world application of Reinforcement Learning (RL) as a Markov Decision Process (MDP). The specific article below, attempts to find the optimal list of recommendations for a user who has a finite amount of time to make the decision of what to play before they abandon the task. This time budget adds an additional constraint to the recommender system.\n",
        "\n",
        "One way to look at this problem, is as a MDP where the recommender system is the agent and the user interacting with the recommender systems is the enviorment. They define the list of recomendations as having $k$ items, then model the interaction between the user, $k$-items, and their time budget. The user's time budget is estimated based on the historical data of how long they scroll before they abandon the task. Each state includes the user budget left and the items the user has examined so far. Each action is the user evaluating an item from the list with a certain relevance, and the cost of the time it takes the user to evaluate it. So the state space is all of the possible combinations of time budget remaining and and items that have been looked at from the list. The action space is all the possible ways a user can select or not select items from the list. The transition to the next state depends on whether the user selects the item they view or not. The reward is when the user chooses an item from the slate, if the user does not choose an item, another iteration is necessary or the budget runs out and the task is abandoned. The goal is for the user to play an item from the list, and the recommender system is trained with the users feedback to try to maximize this.\n",
        "\n",
        "As expected, a larger user time budget increases the probability of the user playing a recommended item as it allows for a larger slate size. So the recomender system needs to generate slates with the ideal balance between item's relevance and the time cost of each item. They found that for this problem, the MDP model for RL performs better than previous systems.\n",
        "\n",
        "\n",
        "**Sources:**\n",
        "\n",
        "https://netflixtechblog.com/reinforcement-learning-for-budget-constrained-recommendations-6cbc5263a32a\n",
        "\n",
        "https://github.com/Netflix-Skunkworks/rl_for_budget_constrained_recs\n",
        "\n",
        "https://research.netflix.com/research-area/recommendations"
      ],
      "metadata": {
        "id": "-P6oHOKoojoP"
      }
    },
    {
      "cell_type": "markdown",
      "source": [
        "## Task 3\n",
        "\n",
        "Reinforcement Learning can be useful in healthcare applications, as medical treatments are often sequential decision making problems. Many health issues are not solved in one step, but are instead a process of treatments that monitor the patient's health throughout the process. By learning the optimal steps to take with the dynamic system as input, RL models are able to pick up on optimal strategies based on more historical data than a human can process.\n",
        "\n",
        "As a leading cause of death, sepsis is a very dangerous condition where infection-fighting processes turn on the body and organs rather than fighting the infection. Rapid diagnosis and early treatment are vital to patient survival and avoiding severe sepsis and septic shock. Artificial Intelligence researchers have been working on training models on historical patient data and treatment decisions, with the goal of helping doctors select treatments based on a patient's data.\n",
        "\n",
        "One open-source project that has addressed this problem was published as \"An Empirical Study of Representation Learning for Reinforcement Learning in Healthcare\". They look at multiple pre-existing architectures and evaluate them with septic patient data from MIMIC-III. The MIMIC-III dataset is a large publicly-available collection of medical records that include diagnoses, procedures, and patient data like vital signs and lab results.\n",
        "\n",
        "This study experiments with how different deep learning techniques improve RL decision making. There are seven initial architectures, a basic RNN Autoencoder (RNN),  ODE-RNN,a non-recurrent Autoencoder (AE), Decoupled Dynamics Module (DDM), Deep Signature Transforms (DST), Approximate Information State (AIS), and Neural Controlled Differential Equations (CDE). See the diagram below of Mean Squared Error (MSE) values as a comparison between these models (Fig. 1). As it is necessary to simulate the \"cause and effect\" relationship of a model's treatment plan and a patient's health, they also developed an algorithm with batch reinforcement learning that estimates each action's results. To mitigate the risks of incorrect extrapolation, they constrained the estimates to keep them from falling outside the supported data called Batch Constrained Q-Learning (BCQ). To further test and compare the quality of treatments policy The treatment policies are all trained using BCQ and evaluated with weighted importance sampling (WIS). A graph of the best policies learned based on the reinforcement learning state representations can be seen below (Fig. 2).\n",
        "\n",
        "Across the different approaches, the Neural CDE was significantly better than the other model architectures. The AIS and RNN were also relatively successful compared to the non-recurrent models. These results make sense as RNNs work very well for RL applications with sequential data. Another interesting finding is that the increased complexity of deep learning is not particularly effective or necessary in this context, although it's possible they could have performed better with a larger dataset. Overall, models like these can be very effective, and reinforcement learning is beneficial for building models that assist medical professionals in selecting treatment policies.\n",
        "\n",
        "**Sources:**\n",
        "\n",
        "https://paperswithcode.com/paper/an-empirical-study-of-representation-learning\n",
        "\n",
        "https://arxiv.org/pdf/2011.11235v1\n",
        "\n",
        "https://github.com/MLforHealth/rl_representations\n",
        "\n",
        "https://pubmed.ncbi.nlm.nih.gov/30349085/\n",
        "\n",
        "https://developer.ibm.com/learningpaths/get-started-automated-ai-for-decision-making-api/what-is-automated-ai-for-decision-making/\n",
        "\n",
        "https://paperswithcode.com/dataset/mimic-iii\n",
        "\n"
      ],
      "metadata": {
        "id": "34gZlzvd45Wu"
      }
    },
    {
      "cell_type": "markdown",
      "source": [
        "![image.png](data:image/png;base64,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)\n",
        "\n",
        "**Fig. 1**"
      ],
      "metadata": {
        "id": "U7bEUc7_Vil3"
      }
    },
    {
      "cell_type": "markdown",
      "source": [
        "![image.png](data:image/png;base64,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)\n",
        "\n",
        "**Fig. 2**"
      ],
      "metadata": {
        "id": "F2TttdRJWAQI"
      }
    },
    {
      "cell_type": "markdown",
      "source": [
        "## Task 4\n",
        "\n",
        "**Sources:**\n",
        "\n",
        "https://mitpress.mit.edu/9780262039246/reinforcement-learning/\n",
        "\n",
        "https://github.com/Uzmamushtaque/CSCI-4170-6170/blob/20d362e36ea0c8375656efdb5aba0f58cda0983b/Lecture_17.ipynb#L38\n",
        "\n",
        "https://huggingface.co/learn/deep-rl-course/en/unit2/q-learning-example\n",
        "\n",
        "https://www.datacamp.com/tutorial/introduction-q-learning-beginner-tutorial\n",
        "\n",
        "https://github.com/khpeek/Q-learning-Tic-Tac-Toe\n",
        "\n",
        "https://github.com/rfeinman/tictactoe-reinforcement-learning"
      ],
      "metadata": {
        "id": "v4s9OYr4aoNO"
      }
    },
    {
      "cell_type": "markdown",
      "source": [
        "### Game Enviorment"
      ],
      "metadata": {
        "id": "zw-w8ovyhUtq"
      }
    },
    {
      "cell_type": "code",
      "source": [
        "# game of tic tac toe\n",
        "class TicTacToeGame:\n",
        "    def __init__(self):\n",
        "      # make grid and states\n",
        "        self.board = [0] * 9\n",
        "        self.end = False\n",
        "        self.winner = None\n",
        "\n",
        "    def reset(self):\n",
        "        self.board = [0] * 9\n",
        "        self.end = False\n",
        "        self.winner = None\n",
        "        return self.board\n",
        "\n",
        "    def is_winner(self, player):\n",
        "        winning_combinations = [[0, 1, 2], [3, 4, 5], [6, 7, 8],[0, 3, 6], [1, 4, 7], [2, 5, 8], [0, 4, 8], [2, 4, 6]]\n",
        "        for comb in winning_combinations:\n",
        "            if all(self.board[i] == player for i in comb):\n",
        "                return True\n",
        "        return False\n",
        "\n",
        "    def is_tie(self):\n",
        "        return all(x != 0 for x in self.board)\n",
        "\n",
        "    def available_actions(self):\n",
        "        return [i for i, x in enumerate(self.board) if x == 0]\n",
        "\n",
        "    def step(self, action, player):\n",
        "        if self.board[action] != 0 or self.end:\n",
        "            return self.board, -1, self.end  # Invalid action\n",
        "\n",
        "        self.board[action] = player\n",
        "\n",
        "        # If player wins\n",
        "        if self.is_winner(player):\n",
        "            self.end = True\n",
        "            self.winner = player\n",
        "            return self.board, 1, self.end\n",
        "        # if tie\n",
        "        elif self.is_tie():\n",
        "            self.end = True\n",
        "            return self.board, 0, self.end\n",
        "        # else continue\n",
        "        else:\n",
        "            return self.board, 0, self.end\n",
        "\n",
        "    def print_board(self):\n",
        "        board = [self.board[i:i+3] for i in range(0, 9, 3)]\n",
        "        for row in board:\n",
        "            print(' '.join(['X' if x == 1 else 'O' if x == -1 else '.' for x in row]))"
      ],
      "metadata": {
        "id": "2BEaRzdZanE-"
      },
      "execution_count": 33,
      "outputs": []
    },
    {
      "cell_type": "markdown",
      "source": [
        "### Q-Learning"
      ],
      "metadata": {
        "id": "Io7cogTFhW8k"
      }
    },
    {
      "cell_type": "code",
      "source": [
        "# Q-learning\n",
        "class QLearning:\n",
        "    def __init__(self, alpha=0.1, gamma=0.9, epsilon=0.2):\n",
        "        self.q_table = {}\n",
        "        self.alpha = alpha\n",
        "        self.gamma = gamma\n",
        "        self.epsilon = epsilon\n",
        "\n",
        "    def get_state(self, board):\n",
        "        return tuple(board)\n",
        "\n",
        "    def choose_action(self, state, available_actions):\n",
        "        if random.uniform(0, 1) < self.epsilon:\n",
        "            return random.choice(available_actions)\n",
        "        else:\n",
        "            # take action with max Q-value\n",
        "            q_values = [self.q_table.get((state, a), 0) for a in available_actions]\n",
        "            max_q = max(q_values)\n",
        "            max_actions = [a for a, q in zip(available_actions, q_values) if q == max_q]\n",
        "            return random.choice(max_actions)\n",
        "\n",
        "    def learn(self, state, action, reward, next_state, next_available_actions):\n",
        "        future_q = 0 if not next_available_actions else max([self.q_table.get((next_state, a), 0) for a in next_available_actions])\n",
        "        current_q = self.q_table.get((state, action), 0)\n",
        "        new_q = current_q + self.alpha * (reward + self.gamma * future_q - current_q)\n",
        "        self.q_table[(state, action)] = new_q"
      ],
      "metadata": {
        "id": "dpTpdn7kc07C"
      },
      "execution_count": 39,
      "outputs": []
    },
    {
      "cell_type": "code",
      "source": [
        "def train(agent, episodes):\n",
        "    env = TicTacToeGame()\n",
        "    for episode in range(episodes):\n",
        "        state = env.reset()\n",
        "        done = False\n",
        "        while not done:\n",
        "            available_actions = env.available_actions()\n",
        "            action = agent.choose_action(agent.get_state(state), available_actions)\n",
        "            next_state, reward, done = env.step(action, 1)\n",
        "            # Q plays X\n",
        "            agent.learn(agent.get_state(state), action, reward, agent.get_state(next_state), env.available_actions())\n",
        "            state = next_state\n",
        "\n",
        "            if done:\n",
        "                break\n",
        "            # Opponent plays O\n",
        "            opponent_action = random.choice(env.available_actions())\n",
        "            next_state, reward, done = env.step(opponent_action, -1)\n",
        "            state = next_state"
      ],
      "metadata": {
        "id": "mdqlgAvVeT7i"
      },
      "execution_count": 35,
      "outputs": []
    },
    {
      "cell_type": "code",
      "source": [
        "# evaluation metric is based on the rate of wins, ties, and losses, incentivising wins\n",
        "def evaluate(agent, runs):\n",
        "    env = TicTacToeGame()\n",
        "    wins, ties, losses = 0, 0, 0\n",
        "    for r in range(runs):\n",
        "        state = env.reset()\n",
        "        done = False\n",
        "        while not done:\n",
        "            available_actions = env.available_actions()\n",
        "            action = agent.choose_action(agent.get_state(state), available_actions)\n",
        "            #  Q plays X\n",
        "            next_state, reward, done = env.step(action, 1)\n",
        "            state = next_state\n",
        "            if r % 100 == 0:\n",
        "                print(env.print_board())\n",
        "            if done:\n",
        "                if reward == 1:\n",
        "                    if r % 100 == 0:\n",
        "                        print(\"Win!\")\n",
        "                    wins += 1\n",
        "                elif reward == 0:\n",
        "                    if r % 100 == 0:\n",
        "                        print(\"Tie\")\n",
        "                    ties += 1\n",
        "                else:\n",
        "                    losses += 1\n",
        "                    if r % 100 == 0:\n",
        "                        print(\"Loss :(\")\n",
        "                break\n",
        "            # Opponent plays O\n",
        "            opponent_action = random.choice(env.available_actions())\n",
        "            next_state, reward, done = env.step(opponent_action, -1)\n",
        "            state = next_state\n",
        "            if r % 100 == 0:\n",
        "                print(env.print_board())\n",
        "    return wins / runs, ties / runs, losses / runs"
      ],
      "metadata": {
        "id": "bxRU_hkWeo7y"
      },
      "execution_count": 74,
      "outputs": []
    },
    {
      "cell_type": "code",
      "source": [
        "agent = QLearning()\n",
        "train(agent, episodes=1000)\n",
        "\n",
        "print(\"Example Game\")\n",
        "win_rate, tie_rate, loss_rate = evaluate(agent, runs=100)\n",
        "print(\"\\nWins\", win_rate, \"%\")\n",
        "print(\"Ties\", tie_rate, \"%\")\n",
        "print(\"Losses\", loss_rate, \"%\")"
      ],
      "metadata": {
        "colab": {
          "base_uri": "https://localhost:8080/"
        },
        "id": "QuoajZ7ue_aM",
        "outputId": "0edcc6ca-a7e2-49db-928f-92f1d79b7945"
      },
      "execution_count": 76,
      "outputs": [
        {
          "output_type": "stream",
          "name": "stdout",
          "text": [
            "Example Game\n",
            ". . .\n",
            ". . .\n",
            ". X .\n",
            "None\n",
            ". . .\n",
            "O . .\n",
            ". X .\n",
            "None\n",
            ". . .\n",
            "O . .\n",
            ". X X\n",
            "None\n",
            ". . .\n",
            "O . O\n",
            ". X X\n",
            "None\n",
            "X . .\n",
            "O . O\n",
            ". X X\n",
            "None\n",
            "X . O\n",
            "O . O\n",
            ". X X\n",
            "None\n",
            "X . O\n",
            "O . O\n",
            "X X X\n",
            "None\n",
            "Win!\n",
            "\n",
            "Wins 0.6 %\n",
            "Ties 0.17 %\n",
            "Losses 0.0 %\n"
          ]
        }
      ]
    },
    {
      "cell_type": "markdown",
      "source": [
        "# Part 3: Recommender Systems"
      ],
      "metadata": {
        "id": "rjOa1Nl3hBEp"
      }
    },
    {
      "cell_type": "code",
      "source": [
        "! unzip ml-100k.zip -d \"movielens100k\""
      ],
      "metadata": {
        "colab": {
          "base_uri": "https://localhost:8080/"
        },
        "id": "8wOqxb9uioro",
        "outputId": "2d917535-f6e0-40d8-8100-4f4f1a16a32f"
      },
      "execution_count": 1,
      "outputs": [
        {
          "output_type": "stream",
          "name": "stdout",
          "text": [
            "Archive:  ml-100k.zip\n",
            "   creating: movielens100k/ml-100k/\n",
            "  inflating: movielens100k/ml-100k/allbut.pl  \n",
            "  inflating: movielens100k/ml-100k/mku.sh  \n",
            "  inflating: movielens100k/ml-100k/README  \n",
            "  inflating: movielens100k/ml-100k/u.data  \n",
            "  inflating: movielens100k/ml-100k/u.genre  \n",
            "  inflating: movielens100k/ml-100k/u.info  \n",
            "  inflating: movielens100k/ml-100k/u.item  \n",
            "  inflating: movielens100k/ml-100k/u.occupation  \n",
            "  inflating: movielens100k/ml-100k/u.user  \n",
            "  inflating: movielens100k/ml-100k/u1.base  \n",
            "  inflating: movielens100k/ml-100k/u1.test  \n",
            "  inflating: movielens100k/ml-100k/u2.base  \n",
            "  inflating: movielens100k/ml-100k/u2.test  \n",
            "  inflating: movielens100k/ml-100k/u3.base  \n",
            "  inflating: movielens100k/ml-100k/u3.test  \n",
            "  inflating: movielens100k/ml-100k/u4.base  \n",
            "  inflating: movielens100k/ml-100k/u4.test  \n",
            "  inflating: movielens100k/ml-100k/u5.base  \n",
            "  inflating: movielens100k/ml-100k/u5.test  \n",
            "  inflating: movielens100k/ml-100k/ua.base  \n",
            "  inflating: movielens100k/ml-100k/ua.test  \n",
            "  inflating: movielens100k/ml-100k/ub.base  \n",
            "  inflating: movielens100k/ml-100k/ub.test  \n"
          ]
        }
      ]
    }
  ]
}